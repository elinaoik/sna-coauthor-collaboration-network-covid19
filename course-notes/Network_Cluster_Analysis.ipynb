{
  "nbformat": 4,
  "nbformat_minor": 0,
  "metadata": {
    "colab": {
      "name": "Network Cluster Analysis.ipynb",
      "provenance": [],
      "collapsed_sections": [],
      "machine_shape": "hm"
    },
    "kernelspec": {
      "name": "python3",
      "display_name": "Python 3"
    }
  },
  "cells": [
    {
      "cell_type": "markdown",
      "metadata": {
        "id": "wHEfKkelsjXD",
        "colab_type": "text"
      },
      "source": [
        "#Network Cluster Analysis\n",
        "\n",
        "##Exercise Session 3"
      ]
    },
    {
      "cell_type": "code",
      "metadata": {
        "id": "D2FGtn2xsdd8",
        "colab_type": "code",
        "outputId": "7d74427f-16d1-49f3-f9a0-00bb138e6b93",
        "colab": {
          "base_uri": "https://localhost:8080/",
          "height": 649
        }
      },
      "source": [
        "# Install necessary packages\n",
        "!pip install python-igraph\n",
        "!pip install easygui\n",
        "!pip install cairocffi\n",
        "!pip install snap-stanford\n",
        "!pip install GephiStreamer\n",
        "!pip install pajek-tools\n",
        "!pip install -U bokeh\n",
        "!pip install networkx"
      ],
      "execution_count": 0,
      "outputs": [
        {
          "output_type": "stream",
          "text": [
            "Requirement already satisfied: python-igraph in /usr/local/lib/python3.6/dist-packages (0.8.2)\n",
            "Requirement already satisfied: texttable>=1.6.2 in /usr/local/lib/python3.6/dist-packages (from python-igraph) (1.6.2)\n",
            "Requirement already satisfied: easygui in /usr/local/lib/python3.6/dist-packages (0.98.1)\n",
            "Requirement already satisfied: cairocffi in /usr/local/lib/python3.6/dist-packages (1.1.0)\n",
            "Requirement already satisfied: setuptools>=39.2.0 in /usr/local/lib/python3.6/dist-packages (from cairocffi) (46.1.3)\n",
            "Requirement already satisfied: cffi>=1.1.0 in /usr/local/lib/python3.6/dist-packages (from cairocffi) (1.14.0)\n",
            "Requirement already satisfied: pycparser in /usr/local/lib/python3.6/dist-packages (from cffi>=1.1.0->cairocffi) (2.20)\n",
            "Requirement already satisfied: snap-stanford in /usr/local/lib/python3.6/dist-packages (5.0.0)\n",
            "Requirement already satisfied: GephiStreamer in /usr/local/lib/python3.6/dist-packages (2.0.3)\n",
            "Requirement already satisfied: enum34 in /usr/local/lib/python3.6/dist-packages (from GephiStreamer) (1.1.10)\n",
            "Requirement already satisfied: requests in /usr/local/lib/python3.6/dist-packages (from GephiStreamer) (2.23.0)\n",
            "Requirement already satisfied: ws4py in /usr/local/lib/python3.6/dist-packages (from GephiStreamer) (0.5.1)\n",
            "Requirement already satisfied: chardet<4,>=3.0.2 in /usr/local/lib/python3.6/dist-packages (from requests->GephiStreamer) (3.0.4)\n",
            "Requirement already satisfied: urllib3!=1.25.0,!=1.25.1,<1.26,>=1.21.1 in /usr/local/lib/python3.6/dist-packages (from requests->GephiStreamer) (1.24.3)\n",
            "Requirement already satisfied: certifi>=2017.4.17 in /usr/local/lib/python3.6/dist-packages (from requests->GephiStreamer) (2020.4.5.1)\n",
            "Requirement already satisfied: idna<3,>=2.5 in /usr/local/lib/python3.6/dist-packages (from requests->GephiStreamer) (2.9)\n",
            "Requirement already satisfied: pajek-tools in /usr/local/lib/python3.6/dist-packages (0.1.0)\n",
            "Requirement already satisfied: pandas in /usr/local/lib/python3.6/dist-packages (from pajek-tools) (1.0.3)\n",
            "Requirement already satisfied: numpy in /usr/local/lib/python3.6/dist-packages (from pajek-tools) (1.18.3)\n",
            "Requirement already satisfied: python-dateutil>=2.6.1 in /usr/local/lib/python3.6/dist-packages (from pandas->pajek-tools) (2.8.1)\n",
            "Requirement already satisfied: pytz>=2017.2 in /usr/local/lib/python3.6/dist-packages (from pandas->pajek-tools) (2018.9)\n",
            "Requirement already satisfied: six>=1.5 in /usr/local/lib/python3.6/dist-packages (from python-dateutil>=2.6.1->pandas->pajek-tools) (1.12.0)\n",
            "Requirement already up-to-date: bokeh in /usr/local/lib/python3.6/dist-packages (2.0.2)\n",
            "Requirement already satisfied, skipping upgrade: typing-extensions>=3.7.4 in /usr/local/lib/python3.6/dist-packages (from bokeh) (3.7.4.2)\n",
            "Requirement already satisfied, skipping upgrade: python-dateutil>=2.1 in /usr/local/lib/python3.6/dist-packages (from bokeh) (2.8.1)\n",
            "Requirement already satisfied, skipping upgrade: PyYAML>=3.10 in /usr/local/lib/python3.6/dist-packages (from bokeh) (3.13)\n",
            "Requirement already satisfied, skipping upgrade: Jinja2>=2.7 in /usr/local/lib/python3.6/dist-packages (from bokeh) (2.11.2)\n",
            "Requirement already satisfied, skipping upgrade: pillow>=4.0 in /usr/local/lib/python3.6/dist-packages (from bokeh) (7.0.0)\n",
            "Requirement already satisfied, skipping upgrade: tornado>=5 in /usr/local/lib/python3.6/dist-packages (from bokeh) (6.0.4)\n",
            "Requirement already satisfied, skipping upgrade: numpy>=1.11.3 in /usr/local/lib/python3.6/dist-packages (from bokeh) (1.18.3)\n",
            "Requirement already satisfied, skipping upgrade: packaging>=16.8 in /usr/local/lib/python3.6/dist-packages (from bokeh) (20.3)\n",
            "Requirement already satisfied, skipping upgrade: six>=1.5 in /usr/local/lib/python3.6/dist-packages (from python-dateutil>=2.1->bokeh) (1.12.0)\n",
            "Requirement already satisfied, skipping upgrade: MarkupSafe>=0.23 in /usr/local/lib/python3.6/dist-packages (from Jinja2>=2.7->bokeh) (1.1.1)\n",
            "Requirement already satisfied, skipping upgrade: pyparsing>=2.0.2 in /usr/local/lib/python3.6/dist-packages (from packaging>=16.8->bokeh) (2.4.7)\n",
            "Requirement already satisfied: networkx in /usr/local/lib/python3.6/dist-packages (2.4)\n",
            "Requirement already satisfied: decorator>=4.3.0 in /usr/local/lib/python3.6/dist-packages (from networkx) (4.4.2)\n"
          ],
          "name": "stdout"
        }
      ]
    },
    {
      "cell_type": "code",
      "metadata": {
        "id": "CfpeLjTKs0u7",
        "colab_type": "code",
        "outputId": "081fe993-a2b3-4baf-dca6-775a6cbb52b0",
        "colab": {
          "base_uri": "https://localhost:8080/",
          "height": 34
        }
      },
      "source": [
        "# Import of required libraries and packages\n",
        "import numpy as np\n",
        "from google.colab import files\n",
        "import pandas as pd\n",
        "import matplotlib.pyplot as plt\n",
        "import igraph as ig\n",
        "import easygui\n",
        "import statistics\n",
        "import os\n",
        "import io\n",
        "import re\n",
        "import networkx as nx\n",
        "print(ig.__version__)"
      ],
      "execution_count": 0,
      "outputs": [
        {
          "output_type": "stream",
          "text": [
            "0.8.2\n"
          ],
          "name": "stdout"
        }
      ]
    },
    {
      "cell_type": "markdown",
      "metadata": {
        "id": "b-Z4bFL2tBHZ",
        "colab_type": "text"
      },
      "source": [
        "## Part I: Preprocessing"
      ]
    },
    {
      "cell_type": "code",
      "metadata": {
        "id": "brefHxZptPhb",
        "colab_type": "code",
        "outputId": "3ad48d42-b559-46ef-8e0e-bd05e5a0fc60",
        "colab": {
          "base_uri": "https://localhost:8080/",
          "height": 170
        }
      },
      "source": [
        "# Read data in gml-format in iGraph\n",
        "filename = \"cond-mat-2005.gml\"\n",
        "print(filename)\n",
        "\n",
        "g = ig.Graph.Read_GML(filename)\n",
        "\n",
        "ig.summary(g)\n",
        "\n",
        "# Get the number of vertices and edges for the largest component\n",
        "print(\"Number of vertices:\", g.vcount())\n",
        "print(\"Number of edges:\", g.ecount())\n",
        "print('')\n",
        "\n",
        "# Check if the network is undirected/directed, weighted/unweighted and connected\n",
        "print('The network is weighted:', g.is_weighted())\n",
        "print('The network is directed:', g.is_directed())\n",
        "print('The network is connected:', g.is_connected())"
      ],
      "execution_count": 0,
      "outputs": [
        {
          "output_type": "stream",
          "text": [
            "cond-mat-2005.gml\n",
            "IGRAPH U--- 40421 175692 -- \n",
            "+ attr: id (v), label (v), value (e)\n",
            "Number of vertices: 40421\n",
            "Number of edges: 175692\n",
            "\n",
            "The network is weighted: False\n",
            "The network is directed: False\n",
            "The network is connected: False\n"
          ],
          "name": "stdout"
        }
      ]
    },
    {
      "cell_type": "code",
      "metadata": {
        "id": "7lPL61yKwnB6",
        "colab_type": "code",
        "outputId": "f9d703a5-c45e-4c03-cf18-dfbbebfd8d41",
        "colab": {
          "base_uri": "https://localhost:8080/",
          "height": 858
        }
      },
      "source": [
        "# Calculate degree and betweenness\n",
        "degree = g.degree()\n",
        "#betweenness = g.betweenness(weights=None)\n",
        "print(\"Number of degrees calculated : % 2d, minimum : % 2d, maximum : % 2d\" % (len(degree), min(degree), max(degree)))\n",
        "#print(\"Betweenness: minimum: % 5.2f, maximum: % 5.4f\" %(min(betweenness), max(betweenness)))\n",
        "\n",
        "# Using the default igraph function for the calculation and plotting of the degree distribution\n",
        "deg_dist = g.degree_distribution()\n",
        "ig.plot(deg_dist)"
      ],
      "execution_count": 0,
      "outputs": [
        {
          "output_type": "stream",
          "text": [
            "Number of degrees calculated :  40421, minimum :  0, maximum :  278\n"
          ],
          "name": "stdout"
        },
        {
          "output_type": "execute_result",
          "data": {
            "text/plain": [
              "<igraph.drawing.Plot at 0x7fa7035149e8>"
            ],
            "image/svg+xml": "<?xml version=\"1.0\" encoding=\"UTF-8\"?>\n<svg xmlns=\"http://www.w3.org/2000/svg\" xmlns:xlink=\"http://www.w3.org/1999/xlink\" width=\"600pt\" height=\"600pt\" viewBox=\"0 0 600 600\" version=\"1.1\">\n<g id=\"surface14\">\n<rect x=\"0\" y=\"0\" width=\"600\" height=\"600\" style=\"fill:rgb(100%,100%,100%);fill-opacity:1;stroke:none;\"/>\n<path style=\" stroke:none;fill-rule:nonzero;fill:rgb(100%,0%,0%);fill-opacity:1;\" d=\"M 20 489.835938 L 22.007812 489.835938 L 22.007812 580 L 20 580 Z M 20 489.835938 \"/>\n<path style=\" stroke:none;fill-rule:nonzero;fill:rgb(100%,0%,0%);fill-opacity:1;\" d=\"M 22.007812 175.222656 L 24.015625 175.222656 L 24.015625 580 L 22.007812 580 Z M 22.007812 175.222656 \"/>\n<path style=\" stroke:none;fill-rule:nonzero;fill:rgb(100%,0%,0%);fill-opacity:1;\" d=\"M 24.015625 20 L 26.023438 20 L 26.023438 580 L 24.015625 580 Z M 24.015625 20 \"/>\n<path style=\" stroke:none;fill-rule:nonzero;fill:rgb(100%,0%,0%);fill-opacity:1;\" d=\"M 26.023438 50.554688 L 28.03125 50.554688 L 28.03125 580 L 26.023438 580 Z M 26.023438 50.554688 \"/>\n<path style=\" stroke:none;fill-rule:nonzero;fill:rgb(100%,0%,0%);fill-opacity:1;\" d=\"M 28.027344 146.164062 L 30.035156 146.164062 L 30.035156 580 L 28.027344 580 Z M 28.027344 146.164062 \"/>\n<path style=\" stroke:none;fill-rule:nonzero;fill:rgb(100%,0%,0%);fill-opacity:1;\" d=\"M 30.035156 235.367188 L 32.042969 235.367188 L 32.042969 580 L 30.035156 580 Z M 30.035156 235.367188 \"/>\n<path style=\" stroke:none;fill-rule:nonzero;fill:rgb(100%,0%,0%);fill-opacity:1;\" d=\"M 32.042969 289.210938 L 34.050781 289.210938 L 34.050781 580 L 32.042969 580 Z M 32.042969 289.210938 \"/>\n<path style=\" stroke:none;fill-rule:nonzero;fill:rgb(100%,0%,0%);fill-opacity:1;\" d=\"M 34.050781 342.519531 L 36.058594 342.519531 L 36.058594 580 L 34.050781 580 Z M 34.050781 342.519531 \"/>\n<path style=\" stroke:none;fill-rule:nonzero;fill:rgb(100%,0%,0%);fill-opacity:1;\" d=\"M 36.058594 395.824219 L 38.066406 395.824219 L 38.066406 580 L 36.058594 580 Z M 36.058594 395.824219 \"/>\n<path style=\" stroke:none;fill-rule:nonzero;fill:rgb(100%,0%,0%);fill-opacity:1;\" d=\"M 38.066406 432.253906 L 40.074219 432.253906 L 40.074219 580 L 38.066406 580 Z M 38.066406 432.253906 \"/>\n<path style=\" stroke:none;fill-rule:nonzero;fill:rgb(100%,0%,0%);fill-opacity:1;\" d=\"M 40.070312 448.8125 L 42.078125 448.8125 L 42.078125 580 L 40.070312 580 Z M 40.070312 448.8125 \"/>\n<path style=\" stroke:none;fill-rule:nonzero;fill:rgb(100%,0%,0%);fill-opacity:1;\" d=\"M 42.078125 480.542969 L 44.085938 480.542969 L 44.085938 580 L 42.078125 580 Z M 42.078125 480.542969 \"/>\n<path style=\" stroke:none;fill-rule:nonzero;fill:rgb(100%,0%,0%);fill-opacity:1;\" d=\"M 44.085938 492.507812 L 46.09375 492.507812 L 46.09375 580 L 44.085938 580 Z M 44.085938 492.507812 \"/>\n<path style=\" stroke:none;fill-rule:nonzero;fill:rgb(100%,0%,0%);fill-opacity:1;\" d=\"M 46.09375 507.675781 L 48.101562 507.675781 L 48.101562 580 L 46.09375 580 Z M 46.09375 507.675781 \"/>\n<path style=\" stroke:none;fill-rule:nonzero;fill:rgb(100%,0%,0%);fill-opacity:1;\" d=\"M 48.101562 513.125 L 50.109375 513.125 L 50.109375 580 L 48.101562 580 Z M 48.101562 513.125 \"/>\n<path style=\" stroke:none;fill-rule:nonzero;fill:rgb(100%,0%,0%);fill-opacity:1;\" d=\"M 50.109375 527.761719 L 52.117188 527.761719 L 52.117188 580 L 50.109375 580 Z M 50.109375 527.761719 \"/>\n<path style=\" stroke:none;fill-rule:nonzero;fill:rgb(100%,0%,0%);fill-opacity:1;\" d=\"M 52.113281 531.5 L 54.121094 531.5 L 54.121094 580 L 52.113281 580 Z M 52.113281 531.5 \"/>\n<path style=\" stroke:none;fill-rule:nonzero;fill:rgb(100%,0%,0%);fill-opacity:1;\" d=\"M 54.121094 538.335938 L 56.128906 538.335938 L 56.128906 580 L 54.121094 580 Z M 54.121094 538.335938 \"/>\n<path style=\" stroke:none;fill-rule:nonzero;fill:rgb(100%,0%,0%);fill-opacity:1;\" d=\"M 56.128906 538.441406 L 58.136719 538.441406 L 58.136719 580 L 56.128906 580 Z M 56.128906 538.441406 \"/>\n<path style=\" stroke:none;fill-rule:nonzero;fill:rgb(100%,0%,0%);fill-opacity:1;\" d=\"M 58.136719 545.601562 L 60.144531 545.601562 L 60.144531 580 L 58.136719 580 Z M 58.136719 545.601562 \"/>\n<path style=\" stroke:none;fill-rule:nonzero;fill:rgb(100%,0%,0%);fill-opacity:1;\" d=\"M 60.144531 549.019531 L 62.152344 549.019531 L 62.152344 580 L 60.144531 580 Z M 60.144531 549.019531 \"/>\n<path style=\" stroke:none;fill-rule:nonzero;fill:rgb(100%,0%,0%);fill-opacity:1;\" d=\"M 62.152344 551.902344 L 64.160156 551.902344 L 64.160156 580 L 62.152344 580 Z M 62.152344 551.902344 \"/>\n<path style=\" stroke:none;fill-rule:nonzero;fill:rgb(100%,0%,0%);fill-opacity:1;\" d=\"M 64.15625 554.789062 L 66.164062 554.789062 L 66.164062 580 L 64.15625 580 Z M 64.15625 554.789062 \"/>\n<path style=\" stroke:none;fill-rule:nonzero;fill:rgb(100%,0%,0%);fill-opacity:1;\" d=\"M 66.164062 557.246094 L 68.171875 557.246094 L 68.171875 580 L 66.164062 580 Z M 66.164062 557.246094 \"/>\n<path style=\" stroke:none;fill-rule:nonzero;fill:rgb(100%,0%,0%);fill-opacity:1;\" d=\"M 68.171875 557.351562 L 70.179688 557.351562 L 70.179688 580 L 68.171875 580 Z M 68.171875 557.351562 \"/>\n<path style=\" stroke:none;fill-rule:nonzero;fill:rgb(100%,0%,0%);fill-opacity:1;\" d=\"M 70.179688 561.730469 L 72.1875 561.730469 L 72.1875 580 L 70.179688 580 Z M 70.179688 561.730469 \"/>\n<path style=\" stroke:none;fill-rule:nonzero;fill:rgb(100%,0%,0%);fill-opacity:1;\" d=\"M 72.1875 561.089844 L 74.195312 561.089844 L 74.195312 580 L 72.1875 580 Z M 72.1875 561.089844 \"/>\n<path style=\" stroke:none;fill-rule:nonzero;fill:rgb(100%,0%,0%);fill-opacity:1;\" d=\"M 74.195312 564.507812 L 76.203125 564.507812 L 76.203125 580 L 74.195312 580 Z M 74.195312 564.507812 \"/>\n<path style=\" stroke:none;fill-rule:nonzero;fill:rgb(100%,0%,0%);fill-opacity:1;\" d=\"M 76.199219 566.113281 L 78.207031 566.113281 L 78.207031 580 L 76.199219 580 Z M 76.199219 566.113281 \"/>\n<path style=\" stroke:none;fill-rule:nonzero;fill:rgb(100%,0%,0%);fill-opacity:1;\" d=\"M 78.207031 564.082031 L 80.214844 564.082031 L 80.214844 580 L 78.207031 580 Z M 78.207031 564.082031 \"/>\n<path style=\" stroke:none;fill-rule:nonzero;fill:rgb(100%,0%,0%);fill-opacity:1;\" d=\"M 80.214844 568.460938 L 82.222656 568.460938 L 82.222656 580 L 80.214844 580 Z M 80.214844 568.460938 \"/>\n<path style=\" stroke:none;fill-rule:nonzero;fill:rgb(100%,0%,0%);fill-opacity:1;\" d=\"M 82.222656 570.917969 L 84.230469 570.917969 L 84.230469 580 L 82.222656 580 Z M 82.222656 570.917969 \"/>\n<path style=\" stroke:none;fill-rule:nonzero;fill:rgb(100%,0%,0%);fill-opacity:1;\" d=\"M 84.230469 569.425781 L 86.238281 569.425781 L 86.238281 580 L 84.230469 580 Z M 84.230469 569.425781 \"/>\n<path style=\" stroke:none;fill-rule:nonzero;fill:rgb(100%,0%,0%);fill-opacity:1;\" d=\"M 86.238281 570.8125 L 88.246094 570.8125 L 88.246094 580 L 86.238281 580 Z M 86.238281 570.8125 \"/>\n<path style=\" stroke:none;fill-rule:nonzero;fill:rgb(100%,0%,0%);fill-opacity:1;\" d=\"M 88.242188 573.269531 L 90.25 573.269531 L 90.25 580 L 88.242188 580 Z M 88.242188 573.269531 \"/>\n<path style=\" stroke:none;fill-rule:nonzero;fill:rgb(100%,0%,0%);fill-opacity:1;\" d=\"M 90.25 569.210938 L 92.257812 569.210938 L 92.257812 580 L 90.25 580 Z M 90.25 569.210938 \"/>\n<path style=\" stroke:none;fill-rule:nonzero;fill:rgb(100%,0%,0%);fill-opacity:1;\" d=\"M 92.257812 572.09375 L 94.265625 572.09375 L 94.265625 580 L 92.257812 580 Z M 92.257812 572.09375 \"/>\n<path style=\" stroke:none;fill-rule:nonzero;fill:rgb(100%,0%,0%);fill-opacity:1;\" d=\"M 94.265625 571.667969 L 96.273438 571.667969 L 96.273438 580 L 94.265625 580 Z M 94.265625 571.667969 \"/>\n<path style=\" stroke:none;fill-rule:nonzero;fill:rgb(100%,0%,0%);fill-opacity:1;\" d=\"M 96.273438 574.765625 L 98.28125 574.765625 L 98.28125 580 L 96.273438 580 Z M 96.273438 574.765625 \"/>\n<path style=\" stroke:none;fill-rule:nonzero;fill:rgb(100%,0%,0%);fill-opacity:1;\" d=\"M 98.28125 574.660156 L 100.289062 574.660156 L 100.289062 580 L 98.28125 580 Z M 98.28125 574.660156 \"/>\n<path style=\" stroke:none;fill-rule:nonzero;fill:rgb(100%,0%,0%);fill-opacity:1;\" d=\"M 100.285156 572.949219 L 102.292969 572.949219 L 102.292969 580 L 100.285156 580 Z M 100.285156 572.949219 \"/>\n<path style=\" stroke:none;fill-rule:nonzero;fill:rgb(100%,0%,0%);fill-opacity:1;\" d=\"M 102.292969 575.191406 L 104.300781 575.191406 L 104.300781 580 L 102.292969 580 Z M 102.292969 575.191406 \"/>\n<path style=\" stroke:none;fill-rule:nonzero;fill:rgb(100%,0%,0%);fill-opacity:1;\" d=\"M 104.300781 573.484375 L 106.308594 573.484375 L 106.308594 580 L 104.300781 580 Z M 104.300781 573.484375 \"/>\n<path style=\" stroke:none;fill-rule:nonzero;fill:rgb(100%,0%,0%);fill-opacity:1;\" d=\"M 106.308594 575.726562 L 108.316406 575.726562 L 108.316406 580 L 106.308594 580 Z M 106.308594 575.726562 \"/>\n<path style=\" stroke:none;fill-rule:nonzero;fill:rgb(100%,0%,0%);fill-opacity:1;\" d=\"M 108.316406 574.550781 L 110.324219 574.550781 L 110.324219 580 L 108.316406 580 Z M 108.316406 574.550781 \"/>\n<path style=\" stroke:none;fill-rule:nonzero;fill:rgb(100%,0%,0%);fill-opacity:1;\" d=\"M 110.324219 575.300781 L 112.332031 575.300781 L 112.332031 580 L 110.324219 580 Z M 110.324219 575.300781 \"/>\n<path style=\" stroke:none;fill-rule:nonzero;fill:rgb(100%,0%,0%);fill-opacity:1;\" d=\"M 112.328125 576.261719 L 114.335938 576.261719 L 114.335938 580 L 112.328125 580 Z M 112.328125 576.261719 \"/>\n<path style=\" stroke:none;fill-rule:nonzero;fill:rgb(100%,0%,0%);fill-opacity:1;\" d=\"M 114.335938 576.261719 L 116.34375 576.261719 L 116.34375 580 L 114.335938 580 Z M 114.335938 576.261719 \"/>\n<path style=\" stroke:none;fill-rule:nonzero;fill:rgb(100%,0%,0%);fill-opacity:1;\" d=\"M 116.34375 576.6875 L 118.351562 576.6875 L 118.351562 580 L 116.34375 580 Z M 116.34375 576.6875 \"/>\n<path style=\" stroke:none;fill-rule:nonzero;fill:rgb(100%,0%,0%);fill-opacity:1;\" d=\"M 118.351562 576.796875 L 120.359375 576.796875 L 120.359375 580 L 118.351562 580 Z M 118.351562 576.796875 \"/>\n<path style=\" stroke:none;fill-rule:nonzero;fill:rgb(100%,0%,0%);fill-opacity:1;\" d=\"M 120.359375 575.941406 L 122.367188 575.941406 L 122.367188 580 L 120.359375 580 Z M 120.359375 575.941406 \"/>\n<path style=\" stroke:none;fill-rule:nonzero;fill:rgb(100%,0%,0%);fill-opacity:1;\" d=\"M 122.367188 576.261719 L 124.375 576.261719 L 124.375 580 L 122.367188 580 Z M 122.367188 576.261719 \"/>\n<path style=\" stroke:none;fill-rule:nonzero;fill:rgb(100%,0%,0%);fill-opacity:1;\" d=\"M 124.371094 575.726562 L 126.378906 575.726562 L 126.378906 580 L 124.371094 580 Z M 124.371094 575.726562 \"/>\n<path style=\" stroke:none;fill-rule:nonzero;fill:rgb(100%,0%,0%);fill-opacity:1;\" d=\"M 126.378906 577.328125 L 128.386719 577.328125 L 128.386719 580 L 126.378906 580 Z M 126.378906 577.328125 \"/>\n<path style=\" stroke:none;fill-rule:nonzero;fill:rgb(100%,0%,0%);fill-opacity:1;\" d=\"M 128.386719 577.648438 L 130.394531 577.648438 L 130.394531 580 L 128.386719 580 Z M 128.386719 577.648438 \"/>\n<path style=\" stroke:none;fill-rule:nonzero;fill:rgb(100%,0%,0%);fill-opacity:1;\" d=\"M 130.394531 577.328125 L 132.402344 577.328125 L 132.402344 580 L 130.394531 580 Z M 130.394531 577.328125 \"/>\n<path style=\" stroke:none;fill-rule:nonzero;fill:rgb(100%,0%,0%);fill-opacity:1;\" d=\"M 132.402344 576.902344 L 134.410156 576.902344 L 134.410156 580 L 132.402344 580 Z M 132.402344 576.902344 \"/>\n<path style=\" stroke:none;fill-rule:nonzero;fill:rgb(100%,0%,0%);fill-opacity:1;\" d=\"M 134.410156 578.503906 L 136.417969 578.503906 L 136.417969 580 L 134.410156 580 Z M 134.410156 578.503906 \"/>\n<path style=\" stroke:none;fill-rule:nonzero;fill:rgb(100%,0%,0%);fill-opacity:1;\" d=\"M 136.414062 577.863281 L 138.421875 577.863281 L 138.421875 580 L 136.414062 580 Z M 136.414062 577.863281 \"/>\n<path style=\" stroke:none;fill-rule:nonzero;fill:rgb(100%,0%,0%);fill-opacity:1;\" d=\"M 138.421875 577.4375 L 140.429688 577.4375 L 140.429688 580 L 138.421875 580 Z M 138.421875 577.4375 \"/>\n<path style=\" stroke:none;fill-rule:nonzero;fill:rgb(100%,0%,0%);fill-opacity:1;\" d=\"M 140.429688 578.078125 L 142.4375 578.078125 L 142.4375 580 L 140.429688 580 Z M 140.429688 578.078125 \"/>\n<path style=\" stroke:none;fill-rule:nonzero;fill:rgb(100%,0%,0%);fill-opacity:1;\" d=\"M 142.4375 577.863281 L 144.445312 577.863281 L 144.445312 580 L 142.4375 580 Z M 142.4375 577.863281 \"/>\n<path style=\" stroke:none;fill-rule:nonzero;fill:rgb(100%,0%,0%);fill-opacity:1;\" d=\"M 144.445312 577.648438 L 146.453125 577.648438 L 146.453125 580 L 144.445312 580 Z M 144.445312 577.648438 \"/>\n<path style=\" stroke:none;fill-rule:nonzero;fill:rgb(100%,0%,0%);fill-opacity:1;\" d=\"M 146.453125 578.824219 L 148.460938 578.824219 L 148.460938 580 L 146.453125 580 Z M 146.453125 578.824219 \"/>\n<path style=\" stroke:none;fill-rule:nonzero;fill:rgb(100%,0%,0%);fill-opacity:1;\" d=\"M 148.457031 578.183594 L 150.464844 578.183594 L 150.464844 580 L 148.457031 580 Z M 148.457031 578.183594 \"/>\n<path style=\" stroke:none;fill-rule:nonzero;fill:rgb(100%,0%,0%);fill-opacity:1;\" d=\"M 150.464844 578.71875 L 152.472656 578.71875 L 152.472656 580 L 150.464844 580 Z M 150.464844 578.71875 \"/>\n<path style=\" stroke:none;fill-rule:nonzero;fill:rgb(100%,0%,0%);fill-opacity:1;\" d=\"M 152.472656 578.398438 L 154.480469 578.398438 L 154.480469 580 L 152.472656 580 Z M 152.472656 578.398438 \"/>\n<path style=\" stroke:none;fill-rule:nonzero;fill:rgb(100%,0%,0%);fill-opacity:1;\" d=\"M 154.480469 578.824219 L 156.488281 578.824219 L 156.488281 580 L 154.480469 580 Z M 154.480469 578.824219 \"/>\n<path style=\" stroke:none;fill-rule:nonzero;fill:rgb(100%,0%,0%);fill-opacity:1;\" d=\"M 156.488281 578.503906 L 158.496094 578.503906 L 158.496094 580 L 156.488281 580 Z M 156.488281 578.503906 \"/>\n<path style=\" stroke:none;fill-rule:nonzero;fill:rgb(100%,0%,0%);fill-opacity:1;\" d=\"M 158.496094 579.144531 L 160.503906 579.144531 L 160.503906 580 L 158.496094 580 Z M 158.496094 579.144531 \"/>\n<path style=\" stroke:none;fill-rule:nonzero;fill:rgb(100%,0%,0%);fill-opacity:1;\" d=\"M 160.5 579.039062 L 162.507812 579.039062 L 162.507812 580 L 160.5 580 Z M 160.5 579.039062 \"/>\n<path style=\" stroke:none;fill-rule:nonzero;fill:rgb(100%,0%,0%);fill-opacity:1;\" d=\"M 162.507812 578.933594 L 164.515625 578.933594 L 164.515625 580 L 162.507812 580 Z M 162.507812 578.933594 \"/>\n<path style=\" stroke:none;fill-rule:nonzero;fill:rgb(100%,0%,0%);fill-opacity:1;\" d=\"M 164.515625 579.464844 L 166.523438 579.464844 L 166.523438 580 L 164.515625 580 Z M 164.515625 579.464844 \"/>\n<path style=\" stroke:none;fill-rule:nonzero;fill:rgb(100%,0%,0%);fill-opacity:1;\" d=\"M 166.523438 578.503906 L 168.53125 578.503906 L 168.53125 580 L 166.523438 580 Z M 166.523438 578.503906 \"/>\n<path style=\" stroke:none;fill-rule:nonzero;fill:rgb(100%,0%,0%);fill-opacity:1;\" d=\"M 168.53125 579.144531 L 170.539062 579.144531 L 170.539062 580 L 168.53125 580 Z M 168.53125 579.144531 \"/>\n<path style=\" stroke:none;fill-rule:nonzero;fill:rgb(100%,0%,0%);fill-opacity:1;\" d=\"M 170.539062 579.039062 L 172.546875 579.039062 L 172.546875 580 L 170.539062 580 Z M 170.539062 579.039062 \"/>\n<path style=\" stroke:none;fill-rule:nonzero;fill:rgb(100%,0%,0%);fill-opacity:1;\" d=\"M 172.542969 579.679688 L 174.550781 579.679688 L 174.550781 580 L 172.542969 580 Z M 172.542969 579.679688 \"/>\n<path style=\" stroke:none;fill-rule:nonzero;fill:rgb(100%,0%,0%);fill-opacity:1;\" d=\"M 174.550781 579.253906 L 176.558594 579.253906 L 176.558594 580 L 174.550781 580 Z M 174.550781 579.253906 \"/>\n<path style=\" stroke:none;fill-rule:nonzero;fill:rgb(100%,0%,0%);fill-opacity:1;\" d=\"M 176.558594 579.574219 L 178.566406 579.574219 L 178.566406 580 L 176.558594 580 Z M 176.558594 579.574219 \"/>\n<path style=\" stroke:none;fill-rule:nonzero;fill:rgb(100%,0%,0%);fill-opacity:1;\" d=\"M 178.566406 578.933594 L 180.574219 578.933594 L 180.574219 580 L 178.566406 580 Z M 178.566406 578.933594 \"/>\n<path style=\" stroke:none;fill-rule:nonzero;fill:rgb(100%,0%,0%);fill-opacity:1;\" d=\"M 180.574219 579.359375 L 182.582031 579.359375 L 182.582031 580 L 180.574219 580 Z M 180.574219 579.359375 \"/>\n<path style=\" stroke:none;fill-rule:nonzero;fill:rgb(100%,0%,0%);fill-opacity:1;\" d=\"M 182.582031 579.679688 L 184.589844 579.679688 L 184.589844 580 L 182.582031 580 Z M 182.582031 579.679688 \"/>\n<path style=\" stroke:none;fill-rule:nonzero;fill:rgb(100%,0%,0%);fill-opacity:1;\" d=\"M 184.585938 579.144531 L 186.59375 579.144531 L 186.59375 580 L 184.585938 580 Z M 184.585938 579.144531 \"/>\n<path style=\" stroke:none;fill-rule:nonzero;fill:rgb(100%,0%,0%);fill-opacity:1;\" d=\"M 186.59375 579.253906 L 188.601562 579.253906 L 188.601562 580 L 186.59375 580 Z M 186.59375 579.253906 \"/>\n<path style=\" stroke:none;fill-rule:nonzero;fill:rgb(100%,0%,0%);fill-opacity:1;\" d=\"M 188.601562 579.464844 L 190.609375 579.464844 L 190.609375 580 L 188.601562 580 Z M 188.601562 579.464844 \"/>\n<path style=\" stroke:none;fill-rule:nonzero;fill:rgb(100%,0%,0%);fill-opacity:1;\" d=\"M 190.609375 578.824219 L 192.617188 578.824219 L 192.617188 580 L 190.609375 580 Z M 190.609375 578.824219 \"/>\n<path style=\" stroke:none;fill-rule:nonzero;fill:rgb(100%,0%,0%);fill-opacity:1;\" d=\"M 192.617188 579.679688 L 194.625 579.679688 L 194.625 580 L 192.617188 580 Z M 192.617188 579.679688 \"/>\n<path style=\" stroke:none;fill-rule:nonzero;fill:rgb(100%,0%,0%);fill-opacity:1;\" d=\"M 194.625 579.574219 L 196.632812 579.574219 L 196.632812 580 L 194.625 580 Z M 194.625 579.574219 \"/>\n<path style=\" stroke:none;fill-rule:nonzero;fill:rgb(100%,0%,0%);fill-opacity:1;\" d=\"M 196.628906 579.894531 L 198.636719 579.894531 L 198.636719 580 L 196.628906 580 Z M 196.628906 579.894531 \"/>\n<path style=\" stroke:none;fill-rule:nonzero;fill:rgb(100%,0%,0%);fill-opacity:1;\" d=\"M 198.636719 579.359375 L 200.644531 579.359375 L 200.644531 580 L 198.636719 580 Z M 198.636719 579.359375 \"/>\n<path style=\" stroke:none;fill-rule:nonzero;fill:rgb(100%,0%,0%);fill-opacity:1;\" d=\"M 200.644531 579.679688 L 202.652344 579.679688 L 202.652344 580 L 200.644531 580 Z M 200.644531 579.679688 \"/>\n<path style=\" stroke:none;fill-rule:nonzero;fill:rgb(100%,0%,0%);fill-opacity:1;\" d=\"M 202.652344 579.359375 L 204.660156 579.359375 L 204.660156 580 L 202.652344 580 Z M 202.652344 579.359375 \"/>\n<path style=\" stroke:none;fill-rule:nonzero;fill:rgb(100%,0%,0%);fill-opacity:1;\" d=\"M 204.660156 579.144531 L 206.667969 579.144531 L 206.667969 580 L 204.660156 580 Z M 204.660156 579.144531 \"/>\n<path style=\" stroke:none;fill-rule:nonzero;fill:rgb(100%,0%,0%);fill-opacity:1;\" d=\"M 206.667969 579.574219 L 208.675781 579.574219 L 208.675781 580 L 206.667969 580 Z M 206.667969 579.574219 \"/>\n<path style=\" stroke:none;fill-rule:nonzero;fill:rgb(100%,0%,0%);fill-opacity:1;\" d=\"M 208.675781 579.894531 L 210.683594 579.894531 L 210.683594 580 L 208.675781 580 Z M 208.675781 579.894531 \"/>\n<path style=\" stroke:none;fill-rule:nonzero;fill:rgb(100%,0%,0%);fill-opacity:1;\" d=\"M 210.679688 579.464844 L 212.6875 579.464844 L 212.6875 580 L 210.679688 580 Z M 210.679688 579.464844 \"/>\n<path style=\" stroke:none;fill-rule:nonzero;fill:rgb(100%,0%,0%);fill-opacity:1;\" d=\"M 212.6875 579.894531 L 214.695312 579.894531 L 214.695312 580 L 212.6875 580 Z M 212.6875 579.894531 \"/>\n<path style=\" stroke:none;fill-rule:nonzero;fill:rgb(100%,0%,0%);fill-opacity:1;\" d=\"M 214.695312 579.785156 L 216.703125 579.785156 L 216.703125 580 L 214.695312 580 Z M 214.695312 579.785156 \"/>\n<path style=\" stroke:none;fill-rule:nonzero;fill:rgb(100%,0%,0%);fill-opacity:1;\" d=\"M 216.703125 579.574219 L 218.710938 579.574219 L 218.710938 580 L 216.703125 580 Z M 216.703125 579.574219 \"/>\n<path style=\" stroke:none;fill-rule:nonzero;fill:rgb(100%,0%,0%);fill-opacity:1;\" d=\"M 218.710938 579.464844 L 220.71875 579.464844 L 220.71875 580 L 218.710938 580 Z M 218.710938 579.464844 \"/>\n<path style=\" stroke:none;fill-rule:nonzero;fill:rgb(100%,0%,0%);fill-opacity:1;\" d=\"M 220.71875 579.785156 L 222.726562 579.785156 L 222.726562 580 L 220.71875 580 Z M 220.71875 579.785156 \"/>\n<path style=\" stroke:none;fill-rule:nonzero;fill:rgb(100%,0%,0%);fill-opacity:1;\" d=\"M 224.730469 579.359375 L 226.738281 579.359375 L 226.738281 580 L 224.730469 580 Z M 224.730469 579.359375 \"/>\n<path style=\" stroke:none;fill-rule:nonzero;fill:rgb(100%,0%,0%);fill-opacity:1;\" d=\"M 226.738281 579.253906 L 228.746094 579.253906 L 228.746094 580 L 226.738281 580 Z M 226.738281 579.253906 \"/>\n<path style=\" stroke:none;fill-rule:nonzero;fill:rgb(100%,0%,0%);fill-opacity:1;\" d=\"M 228.746094 579.894531 L 230.753906 579.894531 L 230.753906 580 L 228.746094 580 Z M 228.746094 579.894531 \"/>\n<path style=\" stroke:none;fill-rule:nonzero;fill:rgb(100%,0%,0%);fill-opacity:1;\" d=\"M 230.753906 579.574219 L 232.761719 579.574219 L 232.761719 580 L 230.753906 580 Z M 230.753906 579.574219 \"/>\n<path style=\" stroke:none;fill-rule:nonzero;fill:rgb(100%,0%,0%);fill-opacity:1;\" d=\"M 232.761719 579.894531 L 234.769531 579.894531 L 234.769531 580 L 232.761719 580 Z M 232.761719 579.894531 \"/>\n<path style=\" stroke:none;fill-rule:nonzero;fill:rgb(100%,0%,0%);fill-opacity:1;\" d=\"M 234.765625 579.894531 L 236.773438 579.894531 L 236.773438 580 L 234.765625 580 Z M 234.765625 579.894531 \"/>\n<path style=\" stroke:none;fill-rule:nonzero;fill:rgb(100%,0%,0%);fill-opacity:1;\" d=\"M 236.773438 579.894531 L 238.78125 579.894531 L 238.78125 580 L 236.773438 580 Z M 236.773438 579.894531 \"/>\n<path style=\" stroke:none;fill-rule:nonzero;fill:rgb(100%,0%,0%);fill-opacity:1;\" d=\"M 238.78125 579.574219 L 240.789062 579.574219 L 240.789062 580 L 238.78125 580 Z M 238.78125 579.574219 \"/>\n<path style=\" stroke:none;fill-rule:nonzero;fill:rgb(100%,0%,0%);fill-opacity:1;\" d=\"M 240.789062 579.574219 L 242.796875 579.574219 L 242.796875 580 L 240.789062 580 Z M 240.789062 579.574219 \"/>\n<path style=\" stroke:none;fill-rule:nonzero;fill:rgb(100%,0%,0%);fill-opacity:1;\" d=\"M 242.796875 579.785156 L 244.804688 579.785156 L 244.804688 580 L 242.796875 580 Z M 242.796875 579.785156 \"/>\n<path style=\" stroke:none;fill-rule:nonzero;fill:rgb(100%,0%,0%);fill-opacity:1;\" d=\"M 244.804688 579.894531 L 246.8125 579.894531 L 246.8125 580 L 244.804688 580 Z M 244.804688 579.894531 \"/>\n<path style=\" stroke:none;fill-rule:nonzero;fill:rgb(100%,0%,0%);fill-opacity:1;\" d=\"M 246.808594 579.464844 L 248.816406 579.464844 L 248.816406 580 L 246.808594 580 Z M 246.808594 579.464844 \"/>\n<path style=\" stroke:none;fill-rule:nonzero;fill:rgb(100%,0%,0%);fill-opacity:1;\" d=\"M 248.816406 579.679688 L 250.824219 579.679688 L 250.824219 580 L 248.816406 580 Z M 248.816406 579.679688 \"/>\n<path style=\" stroke:none;fill-rule:nonzero;fill:rgb(100%,0%,0%);fill-opacity:1;\" d=\"M 250.824219 579.679688 L 252.832031 579.679688 L 252.832031 580 L 250.824219 580 Z M 250.824219 579.679688 \"/>\n<path style=\" stroke:none;fill-rule:nonzero;fill:rgb(100%,0%,0%);fill-opacity:1;\" d=\"M 252.832031 579.679688 L 254.839844 579.679688 L 254.839844 580 L 252.832031 580 Z M 252.832031 579.679688 \"/>\n<path style=\" stroke:none;fill-rule:nonzero;fill:rgb(100%,0%,0%);fill-opacity:1;\" d=\"M 254.839844 579.785156 L 256.847656 579.785156 L 256.847656 580 L 254.839844 580 Z M 254.839844 579.785156 \"/>\n<path style=\" stroke:none;fill-rule:nonzero;fill:rgb(100%,0%,0%);fill-opacity:1;\" d=\"M 256.847656 579.785156 L 258.855469 579.785156 L 258.855469 580 L 256.847656 580 Z M 256.847656 579.785156 \"/>\n<path style=\" stroke:none;fill-rule:nonzero;fill:rgb(100%,0%,0%);fill-opacity:1;\" d=\"M 260.859375 579.574219 L 262.867188 579.574219 L 262.867188 580 L 260.859375 580 Z M 260.859375 579.574219 \"/>\n<path style=\" stroke:none;fill-rule:nonzero;fill:rgb(100%,0%,0%);fill-opacity:1;\" d=\"M 262.867188 579.785156 L 264.875 579.785156 L 264.875 580 L 262.867188 580 Z M 262.867188 579.785156 \"/>\n<path style=\" stroke:none;fill-rule:nonzero;fill:rgb(100%,0%,0%);fill-opacity:1;\" d=\"M 264.875 579.785156 L 266.882812 579.785156 L 266.882812 580 L 264.875 580 Z M 264.875 579.785156 \"/>\n<path style=\" stroke:none;fill-rule:nonzero;fill:rgb(100%,0%,0%);fill-opacity:1;\" d=\"M 266.882812 579.894531 L 268.890625 579.894531 L 268.890625 580 L 266.882812 580 Z M 266.882812 579.894531 \"/>\n<path style=\" stroke:none;fill-rule:nonzero;fill:rgb(100%,0%,0%);fill-opacity:1;\" d=\"M 268.890625 579.894531 L 270.898438 579.894531 L 270.898438 580 L 268.890625 580 Z M 268.890625 579.894531 \"/>\n<path style=\" stroke:none;fill-rule:nonzero;fill:rgb(100%,0%,0%);fill-opacity:1;\" d=\"M 270.894531 579.785156 L 272.902344 579.785156 L 272.902344 580 L 270.894531 580 Z M 270.894531 579.785156 \"/>\n<path style=\" stroke:none;fill-rule:nonzero;fill:rgb(100%,0%,0%);fill-opacity:1;\" d=\"M 272.902344 579.785156 L 274.910156 579.785156 L 274.910156 580 L 272.902344 580 Z M 272.902344 579.785156 \"/>\n<path style=\" stroke:none;fill-rule:nonzero;fill:rgb(100%,0%,0%);fill-opacity:1;\" d=\"M 274.910156 579.894531 L 276.917969 579.894531 L 276.917969 580 L 274.910156 580 Z M 274.910156 579.894531 \"/>\n<path style=\" stroke:none;fill-rule:nonzero;fill:rgb(100%,0%,0%);fill-opacity:1;\" d=\"M 278.925781 579.785156 L 280.933594 579.785156 L 280.933594 580 L 278.925781 580 Z M 278.925781 579.785156 \"/>\n<path style=\" stroke:none;fill-rule:nonzero;fill:rgb(100%,0%,0%);fill-opacity:1;\" d=\"M 284.945312 579.894531 L 286.953125 579.894531 L 286.953125 580 L 284.945312 580 Z M 284.945312 579.894531 \"/>\n<path style=\" stroke:none;fill-rule:nonzero;fill:rgb(100%,0%,0%);fill-opacity:1;\" d=\"M 286.953125 579.785156 L 288.960938 579.785156 L 288.960938 580 L 286.953125 580 Z M 286.953125 579.785156 \"/>\n<path style=\" stroke:none;fill-rule:nonzero;fill:rgb(100%,0%,0%);fill-opacity:1;\" d=\"M 290.96875 579.785156 L 292.976562 579.785156 L 292.976562 580 L 290.96875 580 Z M 290.96875 579.785156 \"/>\n<path style=\" stroke:none;fill-rule:nonzero;fill:rgb(100%,0%,0%);fill-opacity:1;\" d=\"M 292.976562 579.894531 L 294.984375 579.894531 L 294.984375 580 L 292.976562 580 Z M 292.976562 579.894531 \"/>\n<path style=\" stroke:none;fill-rule:nonzero;fill:rgb(100%,0%,0%);fill-opacity:1;\" d=\"M 296.988281 579.679688 L 298.996094 579.679688 L 298.996094 580 L 296.988281 580 Z M 296.988281 579.679688 \"/>\n<path style=\" stroke:none;fill-rule:nonzero;fill:rgb(100%,0%,0%);fill-opacity:1;\" d=\"M 301.003906 579.894531 L 303.011719 579.894531 L 303.011719 580 L 301.003906 580 Z M 301.003906 579.894531 \"/>\n<path style=\" stroke:none;fill-rule:nonzero;fill:rgb(100%,0%,0%);fill-opacity:1;\" d=\"M 303.011719 579.894531 L 305.019531 579.894531 L 305.019531 580 L 303.011719 580 Z M 303.011719 579.894531 \"/>\n<path style=\" stroke:none;fill-rule:nonzero;fill:rgb(100%,0%,0%);fill-opacity:1;\" d=\"M 305.019531 579.679688 L 307.027344 579.679688 L 307.027344 580 L 305.019531 580 Z M 305.019531 579.679688 \"/>\n<path style=\" stroke:none;fill-rule:nonzero;fill:rgb(100%,0%,0%);fill-opacity:1;\" d=\"M 309.03125 579.679688 L 311.039062 579.679688 L 311.039062 580 L 309.03125 580 Z M 309.03125 579.679688 \"/>\n<path style=\" stroke:none;fill-rule:nonzero;fill:rgb(100%,0%,0%);fill-opacity:1;\" d=\"M 311.039062 579.894531 L 313.046875 579.894531 L 313.046875 580 L 311.039062 580 Z M 311.039062 579.894531 \"/>\n<path style=\" stroke:none;fill-rule:nonzero;fill:rgb(100%,0%,0%);fill-opacity:1;\" d=\"M 323.082031 579.894531 L 325.089844 579.894531 L 325.089844 580 L 323.082031 580 Z M 323.082031 579.894531 \"/>\n<path style=\" stroke:none;fill-rule:nonzero;fill:rgb(100%,0%,0%);fill-opacity:1;\" d=\"M 329.105469 579.785156 L 331.113281 579.785156 L 331.113281 580 L 329.105469 580 Z M 329.105469 579.785156 \"/>\n<path style=\" stroke:none;fill-rule:nonzero;fill:rgb(100%,0%,0%);fill-opacity:1;\" d=\"M 331.109375 579.785156 L 333.117188 579.785156 L 333.117188 580 L 331.109375 580 Z M 331.109375 579.785156 \"/>\n<path style=\" stroke:none;fill-rule:nonzero;fill:rgb(100%,0%,0%);fill-opacity:1;\" d=\"M 333.117188 579.785156 L 335.125 579.785156 L 335.125 580 L 333.117188 580 Z M 333.117188 579.785156 \"/>\n<path style=\" stroke:none;fill-rule:nonzero;fill:rgb(100%,0%,0%);fill-opacity:1;\" d=\"M 335.125 579.894531 L 337.132812 579.894531 L 337.132812 580 L 335.125 580 Z M 335.125 579.894531 \"/>\n<path style=\" stroke:none;fill-rule:nonzero;fill:rgb(100%,0%,0%);fill-opacity:1;\" d=\"M 347.167969 579.785156 L 349.175781 579.785156 L 349.175781 580 L 347.167969 580 Z M 347.167969 579.785156 \"/>\n<path style=\" stroke:none;fill-rule:nonzero;fill:rgb(100%,0%,0%);fill-opacity:1;\" d=\"M 355.195312 579.785156 L 357.203125 579.785156 L 357.203125 580 L 355.195312 580 Z M 355.195312 579.785156 \"/>\n<path style=\" stroke:none;fill-rule:nonzero;fill:rgb(100%,0%,0%);fill-opacity:1;\" d=\"M 359.210938 579.894531 L 361.21875 579.894531 L 361.21875 580 L 359.210938 580 Z M 359.210938 579.894531 \"/>\n<path style=\" stroke:none;fill-rule:nonzero;fill:rgb(100%,0%,0%);fill-opacity:1;\" d=\"M 371.253906 579.785156 L 373.261719 579.785156 L 373.261719 580 L 371.253906 580 Z M 371.253906 579.785156 \"/>\n<path style=\" stroke:none;fill-rule:nonzero;fill:rgb(100%,0%,0%);fill-opacity:1;\" d=\"M 377.277344 579.894531 L 379.285156 579.894531 L 379.285156 580 L 377.277344 580 Z M 377.277344 579.894531 \"/>\n<path style=\" stroke:none;fill-rule:nonzero;fill:rgb(100%,0%,0%);fill-opacity:1;\" d=\"M 389.320312 579.894531 L 391.328125 579.894531 L 391.328125 580 L 389.320312 580 Z M 389.320312 579.894531 \"/>\n<path style=\" stroke:none;fill-rule:nonzero;fill:rgb(100%,0%,0%);fill-opacity:1;\" d=\"M 395.339844 579.894531 L 397.347656 579.894531 L 397.347656 580 L 395.339844 580 Z M 395.339844 579.894531 \"/>\n<path style=\" stroke:none;fill-rule:nonzero;fill:rgb(100%,0%,0%);fill-opacity:1;\" d=\"M 399.355469 579.894531 L 401.363281 579.894531 L 401.363281 580 L 399.355469 580 Z M 399.355469 579.894531 \"/>\n<path style=\" stroke:none;fill-rule:nonzero;fill:rgb(100%,0%,0%);fill-opacity:1;\" d=\"M 411.398438 579.894531 L 413.40625 579.894531 L 413.40625 580 L 411.398438 580 Z M 411.398438 579.894531 \"/>\n<path style=\" stroke:none;fill-rule:nonzero;fill:rgb(100%,0%,0%);fill-opacity:1;\" d=\"M 415.414062 579.894531 L 417.421875 579.894531 L 417.421875 580 L 415.414062 580 Z M 415.414062 579.894531 \"/>\n<path style=\" stroke:none;fill-rule:nonzero;fill:rgb(100%,0%,0%);fill-opacity:1;\" d=\"M 447.527344 579.894531 L 449.535156 579.894531 L 449.535156 580 L 447.527344 580 Z M 447.527344 579.894531 \"/>\n<path style=\" stroke:none;fill-rule:nonzero;fill:rgb(100%,0%,0%);fill-opacity:1;\" d=\"M 453.546875 579.894531 L 455.554688 579.894531 L 455.554688 580 L 453.546875 580 Z M 453.546875 579.894531 \"/>\n<path style=\" stroke:none;fill-rule:nonzero;fill:rgb(100%,0%,0%);fill-opacity:1;\" d=\"M 455.554688 579.785156 L 457.5625 579.785156 L 457.5625 580 L 455.554688 580 Z M 455.554688 579.785156 \"/>\n<path style=\" stroke:none;fill-rule:nonzero;fill:rgb(100%,0%,0%);fill-opacity:1;\" d=\"M 465.589844 579.894531 L 467.597656 579.894531 L 467.597656 580 L 465.589844 580 Z M 465.589844 579.894531 \"/>\n<path style=\" stroke:none;fill-rule:nonzero;fill:rgb(100%,0%,0%);fill-opacity:1;\" d=\"M 479.640625 579.894531 L 481.648438 579.894531 L 481.648438 580 L 479.640625 580 Z M 479.640625 579.894531 \"/>\n<path style=\" stroke:none;fill-rule:nonzero;fill:rgb(100%,0%,0%);fill-opacity:1;\" d=\"M 513.761719 579.894531 L 515.769531 579.894531 L 515.769531 580 L 513.761719 580 Z M 513.761719 579.894531 \"/>\n<path style=\" stroke:none;fill-rule:nonzero;fill:rgb(100%,0%,0%);fill-opacity:1;\" d=\"M 565.949219 579.894531 L 567.957031 579.894531 L 567.957031 580 L 565.949219 580 Z M 565.949219 579.894531 \"/>\n<path style=\" stroke:none;fill-rule:nonzero;fill:rgb(100%,0%,0%);fill-opacity:1;\" d=\"M 577.992188 579.894531 L 580 579.894531 L 580 580 L 577.992188 580 Z M 577.992188 579.894531 \"/>\n<path style=\"fill:none;stroke-width:1;stroke-linecap:butt;stroke-linejoin:miter;stroke:rgb(0%,0%,0%);stroke-opacity:1;stroke-miterlimit:10;\" d=\"M 20 20 L 580 20 L 580 580 L 20 580 Z M 20 20 \"/>\n</g>\n</svg>\n"
          },
          "metadata": {
            "tags": [],
            "image/svg+xml": {
              "isolated": true
            }
          },
          "execution_count": 21
        }
      ]
    },
    {
      "cell_type": "code",
      "metadata": {
        "id": "3MZ9XXPCxWyH",
        "colab_type": "code",
        "outputId": "3c09314b-fb78-41a6-9c7c-7a39ce9cc2c2",
        "colab": {
          "base_uri": "https://localhost:8080/",
          "height": 401
        }
      },
      "source": [
        "# Improved calculation of degree distribution and plotting using numpy and matplotlib\n",
        "print(max(degree))\n",
        "hist, bins = np.histogram(degree, bins=np.linspace(0,140,29))\n",
        "print(hist)\n",
        "print(bins)\n",
        "plt.plot(bins[1:], hist)"
      ],
      "execution_count": 0,
      "outputs": [
        {
          "output_type": "stream",
          "text": [
            "278\n",
            "[18892 11278  4281  2044  1214   772   441   352   263   175   160   112\n",
            "    88    60    46    33    29    25    22    17    16    11    15    10\n",
            "    10     7     3     7]\n",
            "[  0.   5.  10.  15.  20.  25.  30.  35.  40.  45.  50.  55.  60.  65.\n",
            "  70.  75.  80.  85.  90.  95. 100. 105. 110. 115. 120. 125. 130. 135.\n",
            " 140.]\n"
          ],
          "name": "stdout"
        },
        {
          "output_type": "execute_result",
          "data": {
            "text/plain": [
              "[<matplotlib.lines.Line2D at 0x7fa70020af60>]"
            ]
          },
          "metadata": {
            "tags": []
          },
          "execution_count": 22
        },
        {
          "output_type": "display_data",
          "data": {
            "image/png": "[encoded data removed]",
            "text/plain": [
              "<Figure size 432x288 with 1 Axes>"
            ]
          },
          "metadata": {
            "tags": [],
            "needs_background": "light"
          }
        }
      ]
    },
    {
      "cell_type": "code",
      "metadata": {
        "id": "ZSgH0otDyBiO",
        "colab_type": "code",
        "outputId": "9e703742-6825-4ac5-f6cd-e19f7a82e904",
        "colab": {
          "base_uri": "https://localhost:8080/",
          "height": 51
        }
      },
      "source": [
        "# Retain only this largest component\n",
        "cl = g.clusters()\n",
        "lcc = cl.giant()\n",
        "\n",
        "# Get the number of vertices and edges for the largest component\n",
        "print(\"Number of vertices:\", lcc.vcount())\n",
        "print(\"Number of edges:\", lcc.ecount())"
      ],
      "execution_count": 0,
      "outputs": [
        {
          "output_type": "stream",
          "text": [
            "Number of vertices: 36458\n",
            "Number of edges: 171735\n"
          ],
          "name": "stdout"
        }
      ]
    },
    {
      "cell_type": "code",
      "metadata": {
        "id": "F_qSjh7zT0Hg",
        "colab_type": "code",
        "outputId": "b89ae75e-ba4c-4741-c281-f99b77208236",
        "colab": {
          "base_uri": "https://localhost:8080/",
          "height": 422
        }
      },
      "source": [
        "# Calculate degree of lcc\n",
        "lcc_degree = lcc.degree()\n",
        "print(\"Number of degrees calculated : % 2d, minimum : % 2d, maximum : % 2d\" % (len(lcc_degree), min(lcc_degree), max(lcc_degree)))\n",
        "\n",
        "# Plot degree distribution of lcc\n",
        "print(max(lcc_degree))\n",
        "hist, bins = np.histogram(lcc_degree, bins=np.linspace(0,140,29))\n",
        "print(hist)\n",
        "print(bins)\n",
        "plt.plot(bins[1:], hist)"
      ],
      "execution_count": 0,
      "outputs": [
        {
          "output_type": "stream",
          "text": [
            "Number of degrees calculated :  36458, minimum :  1, maximum :  278\n",
            "278\n",
            "[15286 10952  4270  2024  1214   772   441   352   263   175   160   112\n",
            "    88    60    46    33    29    25    22    17    16    11    15    10\n",
            "    10     7     3     7]\n",
            "[  0.   5.  10.  15.  20.  25.  30.  35.  40.  45.  50.  55.  60.  65.\n",
            "  70.  75.  80.  85.  90.  95. 100. 105. 110. 115. 120. 125. 130. 135.\n",
            " 140.]\n"
          ],
          "name": "stdout"
        },
        {
          "output_type": "execute_result",
          "data": {
            "text/plain": [
              "[<matplotlib.lines.Line2D at 0x7fa702779fd0>]"
            ]
          },
          "metadata": {
            "tags": []
          },
          "execution_count": 24
        },
        {
          "output_type": "display_data",
          "data": {
            "image/png": "[encoded data removed]",
            "text/plain": [
              "<Figure size 432x288 with 1 Axes>"
            ]
          },
          "metadata": {
            "tags": [],
            "needs_background": "light"
          }
        }
      ]
    },
    {
      "cell_type": "markdown",
      "metadata": {
        "id": "7q4K4QLkU57v",
        "colab_type": "text"
      },
      "source": [
        "##Part II: Clustering & Visualization"
      ]
    },
    {
      "cell_type": "code",
      "metadata": {
        "id": "cpEaJnTxU_me",
        "colab_type": "code",
        "outputId": "9c0a08bb-ae4a-4bdc-89ed-646eabc9108f",
        "colab": {
          "base_uri": "https://localhost:8080/",
          "height": 1000
        }
      },
      "source": [
        "# Run the Fast-Greedy community detection algorithm from the igraph packages on the reduced network\n",
        "cl = lcc.community_fastgreedy()\n",
        "# convert it into a flat clustering\n",
        "clusters = cl.as_clustering()\n",
        "# get the membership vector\n",
        "membership = clusters.membership\n",
        "# Transform it into numpy array\n",
        "np_membership = np.array(membership)\n",
        "\n",
        "# Get a tuple of unique clusters & their frequency in numpy array\n",
        "uniqueClusters, occurCount = np.unique(np_membership, return_counts=True)\n",
        "print('In the network there are ', len(uniqueClusters), ' clusters.')\n",
        "\n",
        "# Zip both the arrays\n",
        "listOfUniqueClusters = zip(uniqueClusters, occurCount)\n",
        " \n",
        "print('Unique Clusters along with occurrence Count')\n",
        "# Iterate over the zip object\n",
        "for elem in listOfUniqueClusters:\n",
        "   print('Cluster No: ', elem[0] , ' Contains : ' , elem[1], ' nodes')"
      ],
      "execution_count": 0,
      "outputs": [
        {
          "output_type": "stream",
          "text": [
            "In the network there are  462  clusters.\n",
            "Unique Clusters along with occurrence Count\n",
            "Cluster No:  0  Contains :  5839  nodes\n",
            "Cluster No:  1  Contains :  7453  nodes\n",
            "Cluster No:  2  Contains :  7298  nodes\n",
            "Cluster No:  3  Contains :  2932  nodes\n",
            "Cluster No:  4  Contains :  92  nodes\n",
            "Cluster No:  5  Contains :  477  nodes\n",
            "Cluster No:  6  Contains :  147  nodes\n",
            "Cluster No:  7  Contains :  904  nodes\n",
            "Cluster No:  8  Contains :  13  nodes\n",
            "Cluster No:  9  Contains :  499  nodes\n",
            "Cluster No:  10  Contains :  180  nodes\n",
            "Cluster No:  11  Contains :  1027  nodes\n",
            "Cluster No:  12  Contains :  151  nodes\n",
            "Cluster No:  13  Contains :  1157  nodes\n",
            "Cluster No:  14  Contains :  807  nodes\n",
            "Cluster No:  15  Contains :  200  nodes\n",
            "Cluster No:  16  Contains :  294  nodes\n",
            "Cluster No:  17  Contains :  288  nodes\n",
            "Cluster No:  18  Contains :  30  nodes\n",
            "Cluster No:  19  Contains :  8  nodes\n",
            "Cluster No:  20  Contains :  307  nodes\n",
            "Cluster No:  21  Contains :  17  nodes\n",
            "Cluster No:  22  Contains :  7  nodes\n",
            "Cluster No:  23  Contains :  7  nodes\n",
            "Cluster No:  24  Contains :  26  nodes\n",
            "Cluster No:  25  Contains :  15  nodes\n",
            "Cluster No:  26  Contains :  86  nodes\n",
            "Cluster No:  27  Contains :  6  nodes\n",
            "Cluster No:  28  Contains :  26  nodes\n",
            "Cluster No:  29  Contains :  16  nodes\n",
            "Cluster No:  30  Contains :  17  nodes\n",
            "Cluster No:  31  Contains :  497  nodes\n",
            "Cluster No:  32  Contains :  13  nodes\n",
            "Cluster No:  33  Contains :  3  nodes\n",
            "Cluster No:  34  Contains :  41  nodes\n",
            "Cluster No:  35  Contains :  20  nodes\n",
            "Cluster No:  36  Contains :  4  nodes\n",
            "Cluster No:  37  Contains :  5  nodes\n",
            "Cluster No:  38  Contains :  764  nodes\n",
            "Cluster No:  39  Contains :  10  nodes\n",
            "Cluster No:  40  Contains :  16  nodes\n",
            "Cluster No:  41  Contains :  262  nodes\n",
            "Cluster No:  42  Contains :  6  nodes\n",
            "Cluster No:  43  Contains :  228  nodes\n",
            "Cluster No:  44  Contains :  10  nodes\n",
            "Cluster No:  45  Contains :  74  nodes\n",
            "Cluster No:  46  Contains :  137  nodes\n",
            "Cluster No:  47  Contains :  49  nodes\n",
            "Cluster No:  48  Contains :  14  nodes\n",
            "Cluster No:  49  Contains :  9  nodes\n",
            "Cluster No:  50  Contains :  80  nodes\n",
            "Cluster No:  51  Contains :  25  nodes\n",
            "Cluster No:  52  Contains :  21  nodes\n",
            "Cluster No:  53  Contains :  3  nodes\n",
            "Cluster No:  54  Contains :  12  nodes\n",
            "Cluster No:  55  Contains :  84  nodes\n",
            "Cluster No:  56  Contains :  201  nodes\n",
            "Cluster No:  57  Contains :  9  nodes\n",
            "Cluster No:  58  Contains :  21  nodes\n",
            "Cluster No:  59  Contains :  41  nodes\n",
            "Cluster No:  60  Contains :  12  nodes\n",
            "Cluster No:  61  Contains :  4  nodes\n",
            "Cluster No:  62  Contains :  5  nodes\n",
            "Cluster No:  63  Contains :  34  nodes\n",
            "Cluster No:  64  Contains :  25  nodes\n",
            "Cluster No:  65  Contains :  32  nodes\n",
            "Cluster No:  66  Contains :  10  nodes\n",
            "Cluster No:  67  Contains :  19  nodes\n",
            "Cluster No:  68  Contains :  74  nodes\n",
            "Cluster No:  69  Contains :  93  nodes\n",
            "Cluster No:  70  Contains :  16  nodes\n",
            "Cluster No:  71  Contains :  4  nodes\n",
            "Cluster No:  72  Contains :  15  nodes\n",
            "Cluster No:  73  Contains :  37  nodes\n",
            "Cluster No:  74  Contains :  22  nodes\n",
            "Cluster No:  75  Contains :  21  nodes\n",
            "Cluster No:  76  Contains :  13  nodes\n",
            "Cluster No:  77  Contains :  11  nodes\n",
            "Cluster No:  78  Contains :  9  nodes\n",
            "Cluster No:  79  Contains :  6  nodes\n",
            "Cluster No:  80  Contains :  133  nodes\n",
            "Cluster No:  81  Contains :  35  nodes\n",
            "Cluster No:  82  Contains :  5  nodes\n",
            "Cluster No:  83  Contains :  4  nodes\n",
            "Cluster No:  84  Contains :  7  nodes\n",
            "Cluster No:  85  Contains :  17  nodes\n",
            "Cluster No:  86  Contains :  14  nodes\n",
            "Cluster No:  87  Contains :  6  nodes\n",
            "Cluster No:  88  Contains :  6  nodes\n",
            "Cluster No:  89  Contains :  9  nodes\n",
            "Cluster No:  90  Contains :  4  nodes\n",
            "Cluster No:  91  Contains :  16  nodes\n",
            "Cluster No:  92  Contains :  18  nodes\n",
            "Cluster No:  93  Contains :  13  nodes\n",
            "Cluster No:  94  Contains :  3  nodes\n",
            "Cluster No:  95  Contains :  3  nodes\n",
            "Cluster No:  96  Contains :  6  nodes\n",
            "Cluster No:  97  Contains :  8  nodes\n",
            "Cluster No:  98  Contains :  10  nodes\n",
            "Cluster No:  99  Contains :  5  nodes\n",
            "Cluster No:  100  Contains :  4  nodes\n",
            "Cluster No:  101  Contains :  10  nodes\n",
            "Cluster No:  102  Contains :  2  nodes\n",
            "Cluster No:  103  Contains :  17  nodes\n",
            "Cluster No:  104  Contains :  9  nodes\n",
            "Cluster No:  105  Contains :  12  nodes\n",
            "Cluster No:  106  Contains :  3  nodes\n",
            "Cluster No:  107  Contains :  20  nodes\n",
            "Cluster No:  108  Contains :  11  nodes\n",
            "Cluster No:  109  Contains :  8  nodes\n",
            "Cluster No:  110  Contains :  13  nodes\n",
            "Cluster No:  111  Contains :  15  nodes\n",
            "Cluster No:  112  Contains :  3  nodes\n",
            "Cluster No:  113  Contains :  20  nodes\n",
            "Cluster No:  114  Contains :  9  nodes\n",
            "Cluster No:  115  Contains :  5  nodes\n",
            "Cluster No:  116  Contains :  16  nodes\n",
            "Cluster No:  117  Contains :  3  nodes\n",
            "Cluster No:  118  Contains :  3  nodes\n",
            "Cluster No:  119  Contains :  9  nodes\n",
            "Cluster No:  120  Contains :  17  nodes\n",
            "Cluster No:  121  Contains :  19  nodes\n",
            "Cluster No:  122  Contains :  7  nodes\n",
            "Cluster No:  123  Contains :  16  nodes\n",
            "Cluster No:  124  Contains :  12  nodes\n",
            "Cluster No:  125  Contains :  7  nodes\n",
            "Cluster No:  126  Contains :  14  nodes\n",
            "Cluster No:  127  Contains :  18  nodes\n",
            "Cluster No:  128  Contains :  4  nodes\n",
            "Cluster No:  129  Contains :  3  nodes\n",
            "Cluster No:  130  Contains :  46  nodes\n",
            "Cluster No:  131  Contains :  9  nodes\n",
            "Cluster No:  132  Contains :  3  nodes\n",
            "Cluster No:  133  Contains :  29  nodes\n",
            "Cluster No:  134  Contains :  24  nodes\n",
            "Cluster No:  135  Contains :  5  nodes\n",
            "Cluster No:  136  Contains :  4  nodes\n",
            "Cluster No:  137  Contains :  8  nodes\n",
            "Cluster No:  138  Contains :  2  nodes\n",
            "Cluster No:  139  Contains :  5  nodes\n",
            "Cluster No:  140  Contains :  3  nodes\n",
            "Cluster No:  141  Contains :  8  nodes\n",
            "Cluster No:  142  Contains :  4  nodes\n",
            "Cluster No:  143  Contains :  8  nodes\n",
            "Cluster No:  144  Contains :  4  nodes\n",
            "Cluster No:  145  Contains :  10  nodes\n",
            "Cluster No:  146  Contains :  14  nodes\n",
            "Cluster No:  147  Contains :  6  nodes\n",
            "Cluster No:  148  Contains :  2  nodes\n",
            "Cluster No:  149  Contains :  6  nodes\n",
            "Cluster No:  150  Contains :  9  nodes\n",
            "Cluster No:  151  Contains :  7  nodes\n",
            "Cluster No:  152  Contains :  7  nodes\n",
            "Cluster No:  153  Contains :  17  nodes\n",
            "Cluster No:  154  Contains :  10  nodes\n",
            "Cluster No:  155  Contains :  3  nodes\n",
            "Cluster No:  156  Contains :  8  nodes\n",
            "Cluster No:  157  Contains :  7  nodes\n",
            "Cluster No:  158  Contains :  9  nodes\n",
            "Cluster No:  159  Contains :  2  nodes\n",
            "Cluster No:  160  Contains :  6  nodes\n",
            "Cluster No:  161  Contains :  3  nodes\n",
            "Cluster No:  162  Contains :  8  nodes\n",
            "Cluster No:  163  Contains :  22  nodes\n",
            "Cluster No:  164  Contains :  7  nodes\n",
            "Cluster No:  165  Contains :  5  nodes\n",
            "Cluster No:  166  Contains :  5  nodes\n",
            "Cluster No:  167  Contains :  26  nodes\n",
            "Cluster No:  168  Contains :  11  nodes\n",
            "Cluster No:  169  Contains :  3  nodes\n",
            "Cluster No:  170  Contains :  4  nodes\n",
            "Cluster No:  171  Contains :  7  nodes\n",
            "Cluster No:  172  Contains :  5  nodes\n",
            "Cluster No:  173  Contains :  5  nodes\n",
            "Cluster No:  174  Contains :  4  nodes\n",
            "Cluster No:  175  Contains :  7  nodes\n",
            "Cluster No:  176  Contains :  5  nodes\n",
            "Cluster No:  177  Contains :  20  nodes\n",
            "Cluster No:  178  Contains :  4  nodes\n",
            "Cluster No:  179  Contains :  4  nodes\n",
            "Cluster No:  180  Contains :  18  nodes\n",
            "Cluster No:  181  Contains :  9  nodes\n",
            "Cluster No:  182  Contains :  9  nodes\n",
            "Cluster No:  183  Contains :  11  nodes\n",
            "Cluster No:  184  Contains :  3  nodes\n",
            "Cluster No:  185  Contains :  10  nodes\n",
            "Cluster No:  186  Contains :  10  nodes\n",
            "Cluster No:  187  Contains :  4  nodes\n",
            "Cluster No:  188  Contains :  14  nodes\n",
            "Cluster No:  189  Contains :  4  nodes\n",
            "Cluster No:  190  Contains :  2  nodes\n",
            "Cluster No:  191  Contains :  10  nodes\n",
            "Cluster No:  192  Contains :  5  nodes\n",
            "Cluster No:  193  Contains :  10  nodes\n",
            "Cluster No:  194  Contains :  4  nodes\n",
            "Cluster No:  195  Contains :  5  nodes\n",
            "Cluster No:  196  Contains :  6  nodes\n",
            "Cluster No:  197  Contains :  8  nodes\n",
            "Cluster No:  198  Contains :  4  nodes\n",
            "Cluster No:  199  Contains :  3  nodes\n",
            "Cluster No:  200  Contains :  4  nodes\n",
            "Cluster No:  201  Contains :  5  nodes\n",
            "Cluster No:  202  Contains :  7  nodes\n",
            "Cluster No:  203  Contains :  9  nodes\n",
            "Cluster No:  204  Contains :  7  nodes\n",
            "Cluster No:  205  Contains :  34  nodes\n",
            "Cluster No:  206  Contains :  2  nodes\n",
            "Cluster No:  207  Contains :  8  nodes\n",
            "Cluster No:  208  Contains :  3  nodes\n",
            "Cluster No:  209  Contains :  5  nodes\n",
            "Cluster No:  210  Contains :  11  nodes\n",
            "Cluster No:  211  Contains :  3  nodes\n",
            "Cluster No:  212  Contains :  12  nodes\n",
            "Cluster No:  213  Contains :  3  nodes\n",
            "Cluster No:  214  Contains :  5  nodes\n",
            "Cluster No:  215  Contains :  21  nodes\n",
            "Cluster No:  216  Contains :  3  nodes\n",
            "Cluster No:  217  Contains :  6  nodes\n",
            "Cluster No:  218  Contains :  8  nodes\n",
            "Cluster No:  219  Contains :  8  nodes\n",
            "Cluster No:  220  Contains :  19  nodes\n",
            "Cluster No:  221  Contains :  2  nodes\n",
            "Cluster No:  222  Contains :  4  nodes\n",
            "Cluster No:  223  Contains :  16  nodes\n",
            "Cluster No:  224  Contains :  15  nodes\n",
            "Cluster No:  225  Contains :  25  nodes\n",
            "Cluster No:  226  Contains :  28  nodes\n",
            "Cluster No:  227  Contains :  4  nodes\n",
            "Cluster No:  228  Contains :  3  nodes\n",
            "Cluster No:  229  Contains :  4  nodes\n",
            "Cluster No:  230  Contains :  7  nodes\n",
            "Cluster No:  231  Contains :  18  nodes\n",
            "Cluster No:  232  Contains :  4  nodes\n",
            "Cluster No:  233  Contains :  4  nodes\n",
            "Cluster No:  234  Contains :  11  nodes\n",
            "Cluster No:  235  Contains :  28  nodes\n",
            "Cluster No:  236  Contains :  6  nodes\n",
            "Cluster No:  237  Contains :  7  nodes\n",
            "Cluster No:  238  Contains :  5  nodes\n",
            "Cluster No:  239  Contains :  25  nodes\n",
            "Cluster No:  240  Contains :  6  nodes\n",
            "Cluster No:  241  Contains :  3  nodes\n",
            "Cluster No:  242  Contains :  3  nodes\n",
            "Cluster No:  243  Contains :  5  nodes\n",
            "Cluster No:  244  Contains :  3  nodes\n",
            "Cluster No:  245  Contains :  4  nodes\n",
            "Cluster No:  246  Contains :  9  nodes\n",
            "Cluster No:  247  Contains :  6  nodes\n",
            "Cluster No:  248  Contains :  12  nodes\n",
            "Cluster No:  249  Contains :  10  nodes\n",
            "Cluster No:  250  Contains :  6  nodes\n",
            "Cluster No:  251  Contains :  7  nodes\n",
            "Cluster No:  252  Contains :  11  nodes\n",
            "Cluster No:  253  Contains :  4  nodes\n",
            "Cluster No:  254  Contains :  9  nodes\n",
            "Cluster No:  255  Contains :  6  nodes\n",
            "Cluster No:  256  Contains :  3  nodes\n",
            "Cluster No:  257  Contains :  5  nodes\n",
            "Cluster No:  258  Contains :  6  nodes\n",
            "Cluster No:  259  Contains :  3  nodes\n",
            "Cluster No:  260  Contains :  9  nodes\n",
            "Cluster No:  261  Contains :  5  nodes\n",
            "Cluster No:  262  Contains :  2  nodes\n",
            "Cluster No:  263  Contains :  2  nodes\n",
            "Cluster No:  264  Contains :  3  nodes\n",
            "Cluster No:  265  Contains :  6  nodes\n",
            "Cluster No:  266  Contains :  6  nodes\n",
            "Cluster No:  267  Contains :  5  nodes\n",
            "Cluster No:  268  Contains :  2  nodes\n",
            "Cluster No:  269  Contains :  14  nodes\n",
            "Cluster No:  270  Contains :  14  nodes\n",
            "Cluster No:  271  Contains :  4  nodes\n",
            "Cluster No:  272  Contains :  9  nodes\n",
            "Cluster No:  273  Contains :  4  nodes\n",
            "Cluster No:  274  Contains :  6  nodes\n",
            "Cluster No:  275  Contains :  12  nodes\n",
            "Cluster No:  276  Contains :  9  nodes\n",
            "Cluster No:  277  Contains :  4  nodes\n",
            "Cluster No:  278  Contains :  5  nodes\n",
            "Cluster No:  279  Contains :  4  nodes\n",
            "Cluster No:  280  Contains :  14  nodes\n",
            "Cluster No:  281  Contains :  12  nodes\n",
            "Cluster No:  282  Contains :  6  nodes\n",
            "Cluster No:  283  Contains :  3  nodes\n",
            "Cluster No:  284  Contains :  6  nodes\n",
            "Cluster No:  285  Contains :  6  nodes\n",
            "Cluster No:  286  Contains :  16  nodes\n",
            "Cluster No:  287  Contains :  5  nodes\n",
            "Cluster No:  288  Contains :  6  nodes\n",
            "Cluster No:  289  Contains :  4  nodes\n",
            "Cluster No:  290  Contains :  3  nodes\n",
            "Cluster No:  291  Contains :  4  nodes\n",
            "Cluster No:  292  Contains :  10  nodes\n",
            "Cluster No:  293  Contains :  8  nodes\n",
            "Cluster No:  294  Contains :  7  nodes\n",
            "Cluster No:  295  Contains :  10  nodes\n",
            "Cluster No:  296  Contains :  3  nodes\n",
            "Cluster No:  297  Contains :  3  nodes\n",
            "Cluster No:  298  Contains :  3  nodes\n",
            "Cluster No:  299  Contains :  12  nodes\n",
            "Cluster No:  300  Contains :  3  nodes\n",
            "Cluster No:  301  Contains :  11  nodes\n",
            "Cluster No:  302  Contains :  27  nodes\n",
            "Cluster No:  303  Contains :  8  nodes\n",
            "Cluster No:  304  Contains :  7  nodes\n",
            "Cluster No:  305  Contains :  13  nodes\n",
            "Cluster No:  306  Contains :  3  nodes\n",
            "Cluster No:  307  Contains :  6  nodes\n",
            "Cluster No:  308  Contains :  7  nodes\n",
            "Cluster No:  309  Contains :  7  nodes\n",
            "Cluster No:  310  Contains :  7  nodes\n",
            "Cluster No:  311  Contains :  4  nodes\n",
            "Cluster No:  312  Contains :  3  nodes\n",
            "Cluster No:  313  Contains :  3  nodes\n",
            "Cluster No:  314  Contains :  8  nodes\n",
            "Cluster No:  315  Contains :  4  nodes\n",
            "Cluster No:  316  Contains :  5  nodes\n",
            "Cluster No:  317  Contains :  9  nodes\n",
            "Cluster No:  318  Contains :  9  nodes\n",
            "Cluster No:  319  Contains :  6  nodes\n",
            "Cluster No:  320  Contains :  10  nodes\n",
            "Cluster No:  321  Contains :  13  nodes\n",
            "Cluster No:  322  Contains :  4  nodes\n",
            "Cluster No:  323  Contains :  5  nodes\n",
            "Cluster No:  324  Contains :  7  nodes\n",
            "Cluster No:  325  Contains :  3  nodes\n",
            "Cluster No:  326  Contains :  10  nodes\n",
            "Cluster No:  327  Contains :  4  nodes\n",
            "Cluster No:  328  Contains :  5  nodes\n",
            "Cluster No:  329  Contains :  5  nodes\n",
            "Cluster No:  330  Contains :  2  nodes\n",
            "Cluster No:  331  Contains :  17  nodes\n",
            "Cluster No:  332  Contains :  4  nodes\n",
            "Cluster No:  333  Contains :  7  nodes\n",
            "Cluster No:  334  Contains :  11  nodes\n",
            "Cluster No:  335  Contains :  3  nodes\n",
            "Cluster No:  336  Contains :  2  nodes\n",
            "Cluster No:  337  Contains :  17  nodes\n",
            "Cluster No:  338  Contains :  4  nodes\n",
            "Cluster No:  339  Contains :  4  nodes\n",
            "Cluster No:  340  Contains :  5  nodes\n",
            "Cluster No:  341  Contains :  6  nodes\n",
            "Cluster No:  342  Contains :  5  nodes\n",
            "Cluster No:  343  Contains :  4  nodes\n",
            "Cluster No:  344  Contains :  9  nodes\n",
            "Cluster No:  345  Contains :  8  nodes\n",
            "Cluster No:  346  Contains :  11  nodes\n",
            "Cluster No:  347  Contains :  3  nodes\n",
            "Cluster No:  348  Contains :  6  nodes\n",
            "Cluster No:  349  Contains :  11  nodes\n",
            "Cluster No:  350  Contains :  9  nodes\n",
            "Cluster No:  351  Contains :  4  nodes\n",
            "Cluster No:  352  Contains :  9  nodes\n",
            "Cluster No:  353  Contains :  35  nodes\n",
            "Cluster No:  354  Contains :  5  nodes\n",
            "Cluster No:  355  Contains :  7  nodes\n",
            "Cluster No:  356  Contains :  5  nodes\n",
            "Cluster No:  357  Contains :  5  nodes\n",
            "Cluster No:  358  Contains :  8  nodes\n",
            "Cluster No:  359  Contains :  2  nodes\n",
            "Cluster No:  360  Contains :  7  nodes\n",
            "Cluster No:  361  Contains :  9  nodes\n",
            "Cluster No:  362  Contains :  18  nodes\n",
            "Cluster No:  363  Contains :  3  nodes\n",
            "Cluster No:  364  Contains :  7  nodes\n",
            "Cluster No:  365  Contains :  7  nodes\n",
            "Cluster No:  366  Contains :  6  nodes\n",
            "Cluster No:  367  Contains :  5  nodes\n",
            "Cluster No:  368  Contains :  4  nodes\n",
            "Cluster No:  369  Contains :  8  nodes\n",
            "Cluster No:  370  Contains :  5  nodes\n",
            "Cluster No:  371  Contains :  7  nodes\n",
            "Cluster No:  372  Contains :  34  nodes\n",
            "Cluster No:  373  Contains :  5  nodes\n",
            "Cluster No:  374  Contains :  7  nodes\n",
            "Cluster No:  375  Contains :  4  nodes\n",
            "Cluster No:  376  Contains :  7  nodes\n",
            "Cluster No:  377  Contains :  15  nodes\n",
            "Cluster No:  378  Contains :  3  nodes\n",
            "Cluster No:  379  Contains :  4  nodes\n",
            "Cluster No:  380  Contains :  4  nodes\n",
            "Cluster No:  381  Contains :  3  nodes\n",
            "Cluster No:  382  Contains :  10  nodes\n",
            "Cluster No:  383  Contains :  3  nodes\n",
            "Cluster No:  384  Contains :  5  nodes\n",
            "Cluster No:  385  Contains :  2  nodes\n",
            "Cluster No:  386  Contains :  6  nodes\n",
            "Cluster No:  387  Contains :  7  nodes\n",
            "Cluster No:  388  Contains :  3  nodes\n",
            "Cluster No:  389  Contains :  3  nodes\n",
            "Cluster No:  390  Contains :  3  nodes\n",
            "Cluster No:  391  Contains :  5  nodes\n",
            "Cluster No:  392  Contains :  3  nodes\n",
            "Cluster No:  393  Contains :  4  nodes\n",
            "Cluster No:  394  Contains :  6  nodes\n",
            "Cluster No:  395  Contains :  3  nodes\n",
            "Cluster No:  396  Contains :  9  nodes\n",
            "Cluster No:  397  Contains :  3  nodes\n",
            "Cluster No:  398  Contains :  3  nodes\n",
            "Cluster No:  399  Contains :  17  nodes\n",
            "Cluster No:  400  Contains :  5  nodes\n",
            "Cluster No:  401  Contains :  6  nodes\n",
            "Cluster No:  402  Contains :  5  nodes\n",
            "Cluster No:  403  Contains :  5  nodes\n",
            "Cluster No:  404  Contains :  4  nodes\n",
            "Cluster No:  405  Contains :  3  nodes\n",
            "Cluster No:  406  Contains :  11  nodes\n",
            "Cluster No:  407  Contains :  4  nodes\n",
            "Cluster No:  408  Contains :  3  nodes\n",
            "Cluster No:  409  Contains :  11  nodes\n",
            "Cluster No:  410  Contains :  4  nodes\n",
            "Cluster No:  411  Contains :  5  nodes\n",
            "Cluster No:  412  Contains :  4  nodes\n",
            "Cluster No:  413  Contains :  6  nodes\n",
            "Cluster No:  414  Contains :  4  nodes\n",
            "Cluster No:  415  Contains :  5  nodes\n",
            "Cluster No:  416  Contains :  5  nodes\n",
            "Cluster No:  417  Contains :  4  nodes\n",
            "Cluster No:  418  Contains :  5  nodes\n",
            "Cluster No:  419  Contains :  4  nodes\n",
            "Cluster No:  420  Contains :  10  nodes\n",
            "Cluster No:  421  Contains :  4  nodes\n",
            "Cluster No:  422  Contains :  5  nodes\n",
            "Cluster No:  423  Contains :  6  nodes\n",
            "Cluster No:  424  Contains :  6  nodes\n",
            "Cluster No:  425  Contains :  3  nodes\n",
            "Cluster No:  426  Contains :  8  nodes\n",
            "Cluster No:  427  Contains :  3  nodes\n",
            "Cluster No:  428  Contains :  5  nodes\n",
            "Cluster No:  429  Contains :  4  nodes\n",
            "Cluster No:  430  Contains :  5  nodes\n",
            "Cluster No:  431  Contains :  3  nodes\n",
            "Cluster No:  432  Contains :  4  nodes\n",
            "Cluster No:  433  Contains :  3  nodes\n",
            "Cluster No:  434  Contains :  4  nodes\n",
            "Cluster No:  435  Contains :  2  nodes\n",
            "Cluster No:  436  Contains :  3  nodes\n",
            "Cluster No:  437  Contains :  3  nodes\n",
            "Cluster No:  438  Contains :  6  nodes\n",
            "Cluster No:  439  Contains :  2  nodes\n",
            "Cluster No:  440  Contains :  9  nodes\n",
            "Cluster No:  441  Contains :  5  nodes\n",
            "Cluster No:  442  Contains :  3  nodes\n",
            "Cluster No:  443  Contains :  3  nodes\n",
            "Cluster No:  444  Contains :  4  nodes\n",
            "Cluster No:  445  Contains :  3  nodes\n",
            "Cluster No:  446  Contains :  8  nodes\n",
            "Cluster No:  447  Contains :  4  nodes\n",
            "Cluster No:  448  Contains :  5  nodes\n",
            "Cluster No:  449  Contains :  4  nodes\n",
            "Cluster No:  450  Contains :  5  nodes\n",
            "Cluster No:  451  Contains :  3  nodes\n",
            "Cluster No:  452  Contains :  10  nodes\n",
            "Cluster No:  453  Contains :  5  nodes\n",
            "Cluster No:  454  Contains :  6  nodes\n",
            "Cluster No:  455  Contains :  3  nodes\n",
            "Cluster No:  456  Contains :  5  nodes\n",
            "Cluster No:  457  Contains :  3  nodes\n",
            "Cluster No:  458  Contains :  3  nodes\n",
            "Cluster No:  459  Contains :  5  nodes\n",
            "Cluster No:  460  Contains :  3  nodes\n",
            "Cluster No:  461  Contains :  3  nodes\n"
          ],
          "name": "stdout"
        }
      ]
    },
    {
      "cell_type": "code",
      "metadata": {
        "id": "4KxpSPeXeT7k",
        "colab_type": "code",
        "outputId": "95be73a1-4d52-4241-bd54-6dcee8e497da",
        "colab": {
          "base_uri": "https://localhost:8080/",
          "height": 34
        }
      },
      "source": [
        "# Calculate modularity score for the Fast-Greedy algorithm \n",
        "modularity = lcc.modularity(membership)\n",
        "print('The modularity for the Fast-Greedy algorithm is {}'.format(format(modularity, '.2f')))"
      ],
      "execution_count": 0,
      "outputs": [
        {
          "output_type": "stream",
          "text": [
            "The modularity for the Fast-Greedy algorithm is 0.62\n"
          ],
          "name": "stdout"
        }
      ]
    },
    {
      "cell_type": "code",
      "metadata": {
        "id": "G90X1WPIeVm1",
        "colab_type": "code",
        "colab": {}
      },
      "source": [
        "# Visualize the  network with nodes in different colour according to their cluster membership\n",
        "\n"
      ],
      "execution_count": 0,
      "outputs": []
    },
    {
      "cell_type": "code",
      "metadata": {
        "id": "Ne7g07bOKT_d",
        "colab_type": "code",
        "colab": {}
      },
      "source": [
        "# Plot Network Communities with Fruchterman-Reingold layout\n",
        "\n",
        "# Define style from network plotting\n",
        "visual_style = {}\n",
        "visual_style[\"mark_groups\"] = True\n",
        "visual_style[\"vertex_size\"] = 8\n",
        "#visual_style[\"vertex_label_size\"] = 2\n",
        "#visual_style[\"vertex_color\"] = [ClusterColoringPalette[x] for x in membership]\n",
        "visual_style[\"vertex_label\"] = None\n",
        "visual_style[\"edge_width\"] = 1\n",
        "visual_style[\"layout\"] = 'fruchterman_reingold'\n",
        "visual_style[\"bbox\"] = (1200,1200)\n",
        "visual_style[\"margin\"] = 20\n",
        "\n",
        "out = ig.plot(clusters, **visual_style)\n",
        "out.save('cl_fr.png')"
      ],
      "execution_count": 0,
      "outputs": []
    },
    {
      "cell_type": "code",
      "metadata": {
        "id": "ve8IZJw6KeM4",
        "colab_type": "code",
        "colab": {}
      },
      "source": [
        "# Plot Network Communities with DRL layout\n",
        "\n",
        "# Define style from network plotting\n",
        "visual_style = {}\n",
        "visual_style[\"mark_groups\"] = True\n",
        "visual_style[\"vertex_size\"] = 10\n",
        "#visual_style[\"vertex_label_size\"] = 2\n",
        "#visual_style[\"vertex_color\"] = [ClusterColoringPalette[x] for x in membership]\n",
        "visual_style[\"vertex_label\"] = None\n",
        "visual_style[\"edge_width\"] = 1\n",
        "visual_style[\"layout\"] = 'drl'\n",
        "visual_style[\"bbox\"] = (1200,1200)\n",
        "visual_style[\"margin\"] = 20\n",
        "\n",
        "out = ig.plot(clusters, **visual_style)\n",
        "out.save('cl_drl.png')"
      ],
      "execution_count": 0,
      "outputs": []
    },
    {
      "cell_type": "markdown",
      "metadata": {
        "id": "slDXWBlcbZDo",
        "colab_type": "text"
      },
      "source": [
        "## Part III: Compare Cluster Solutions\n",
        "\n",
        "1. Run two other algorithms: Leading Eigenvector (= Newman), MultiLevel (= Louvain Method)\n",
        "2. Compare the number of obtained clusters and modularity scores.\n",
        "3. Try different visualization layouts, which combination cluster algorithm-layout provides the most appealing results? Is this the best clustering?\n",
        "4. Use the 'compare_communities()' function from iGraph. Discuss the different possible measure and try to interprete the result of the pairwise comparison."
      ]
    },
    {
      "cell_type": "markdown",
      "metadata": {
        "id": "TX5d5vIi-qSw",
        "colab_type": "text"
      },
      "source": [
        "###Leading Eigenvector (=Newman) algorithm"
      ]
    },
    {
      "cell_type": "code",
      "metadata": {
        "id": "6RsACr68be0H",
        "colab_type": "code",
        "outputId": "c6a50770-1f19-4dc0-828c-f64fb2cae1a9",
        "colab": {
          "base_uri": "https://localhost:8080/",
          "height": 119
        }
      },
      "source": [
        "# Run the Leading Eigenvector (=Newman) community detection algorithm from the igraph packages on the reduced network\n",
        "newman = lcc.community_leading_eigenvector()\n",
        "# get the membership vector\n",
        "membership = newman.membership\n",
        "# Transform it into numpy array\n",
        "np_membership = np.array(membership)\n",
        "\n",
        "# Get a tuple of unique clusters & their frequency in numpy array\n",
        "uniqueClusters, occurCount = np.unique(np_membership, return_counts=True)\n",
        "print('In the network there are', len(uniqueClusters), 'clusters.')\n",
        "\n",
        "# Calculate modularity scores for each cluster solution\n",
        "modularity = lcc.modularity(membership)\n",
        "print('The modularity for the Newman method is {}'.format(format(modularity, '.2f')))\n",
        "\n",
        "# Zip both the arrays\n",
        "listOfUniqueClusters = zip(uniqueClusters, occurCount)\n",
        " \n",
        "print('Unique Clusters along with occurrence Count')\n",
        "# Iterate over the zip object\n",
        "for elem in listOfUniqueClusters:\n",
        "   print('Cluster No: ', elem[0] , ' Contains : ' , elem[1], ' nodes')"
      ],
      "execution_count": 0,
      "outputs": [
        {
          "output_type": "stream",
          "text": [
            "In the network there are 3 clusters.\n",
            "The modularity for the Newman method is 0.33\n",
            "Unique Clusters along with occurrence Count\n",
            "Cluster No:  0  Contains :  30657  nodes\n",
            "Cluster No:  1  Contains :  3673  nodes\n",
            "Cluster No:  2  Contains :  2128  nodes\n"
          ],
          "name": "stdout"
        }
      ]
    },
    {
      "cell_type": "code",
      "metadata": {
        "id": "y6AXi-gR_VhK",
        "colab_type": "code",
        "colab": {}
      },
      "source": [
        "# Plot Network Communities with Fruchterman-Reingold layout\n",
        "\n",
        "# Define style from network plotting\n",
        "visual_style = {}\n",
        "visual_style[\"mark_groups\"] = True\n",
        "visual_style[\"vertex_size\"] = 10\n",
        "#visual_style[\"vertex_label_size\"] = 2\n",
        "#visual_style[\"vertex_color\"] = [ClusterColoringPalette[x] for x in membership]\n",
        "visual_style[\"vertex_label\"] = None\n",
        "visual_style[\"edge_width\"] = 1\n",
        "visual_style[\"layout\"] = 'fruchterman_reingold'\n",
        "visual_style[\"bbox\"] = (1200,1200)\n",
        "visual_style[\"margin\"] = 20\n",
        "\n",
        "out = ig.plot(newman, **visual_style)\n",
        "out.save('newman_fr.png')"
      ],
      "execution_count": 0,
      "outputs": []
    },
    {
      "cell_type": "code",
      "metadata": {
        "id": "vx31U7OoFiEo",
        "colab_type": "code",
        "colab": {}
      },
      "source": [
        "# Plot Network Communities with DRL layout\n",
        "\n",
        "# Define style from network plotting\n",
        "visual_style = {}\n",
        "visual_style[\"mark_groups\"] = True\n",
        "visual_style[\"vertex_size\"] = 10\n",
        "#visual_style[\"vertex_label_size\"] = 2\n",
        "#visual_style[\"vertex_color\"] = [ClusterColoringPalette[x] for x in membership]\n",
        "visual_style[\"vertex_label\"] = None\n",
        "visual_style[\"edge_width\"] = 1\n",
        "visual_style[\"layout\"] = 'drl'\n",
        "visual_style[\"bbox\"] = (1200,1200)\n",
        "visual_style[\"margin\"] = 20\n",
        "\n",
        "out = ig.plot(newman, **visual_style)\n",
        "out.save('newman_drl.png')"
      ],
      "execution_count": 0,
      "outputs": []
    },
    {
      "cell_type": "markdown",
      "metadata": {
        "id": "Mq6Pb0VR-yvy",
        "colab_type": "text"
      },
      "source": [
        "###MultiLevel (= Louvain Method) algorithm"
      ]
    },
    {
      "cell_type": "code",
      "metadata": {
        "id": "frh6yAh5w2b8",
        "colab_type": "code",
        "outputId": "d9d17f1b-7eca-4e3d-f831-1f23db882eaf",
        "colab": {
          "base_uri": "https://localhost:8080/",
          "height": 1000
        }
      },
      "source": [
        "# Run the MultiLevel (= Louvain Method) algorithm from the igraph packages on the reduced network\n",
        "louvain = lcc.community_multilevel()\n",
        "# get the membership vector\n",
        "membership = louvain.membership\n",
        "# Transform it into numpy array\n",
        "np_membership = np.array(membership)\n",
        "\n",
        "# Get a tuple of unique clusters & their frequency in numpy array\n",
        "uniqueClusters, occurCount = np.unique(np_membership, return_counts=True)\n",
        "print('In the network there are', len(uniqueClusters), 'clusters.')\n",
        "\n",
        "# Calculate modularity scores for each cluster solution\n",
        "modularity = lcc.modularity(membership)\n",
        "print('The modularity for the Newman method is {}'.format(format(modularity, '.2f')))\n",
        "print('')\n",
        "\n",
        "# Zip both the arrays\n",
        "listOfUniqueClusters = zip(uniqueClusters, occurCount)\n",
        " \n",
        "print('Unique Clusters along with occurrence Count')\n",
        "# Iterate over the zip object\n",
        "for elem in listOfUniqueClusters:\n",
        "   print('Cluster No: ', elem[0] , ' Contains : ' , elem[1], ' nodes')"
      ],
      "execution_count": 0,
      "outputs": [
        {
          "output_type": "stream",
          "text": [
            "In the network there are 89 clusters.\n",
            "The modularity for the Newman method is 0.72\n",
            "\n",
            "Unique Clusters along with occurrence Count\n",
            "Cluster No:  0  Contains :  539  nodes\n",
            "Cluster No:  1  Contains :  1601  nodes\n",
            "Cluster No:  2  Contains :  2231  nodes\n",
            "Cluster No:  3  Contains :  785  nodes\n",
            "Cluster No:  4  Contains :  1786  nodes\n",
            "Cluster No:  5  Contains :  3345  nodes\n",
            "Cluster No:  6  Contains :  719  nodes\n",
            "Cluster No:  7  Contains :  259  nodes\n",
            "Cluster No:  8  Contains :  3166  nodes\n",
            "Cluster No:  9  Contains :  341  nodes\n",
            "Cluster No:  10  Contains :  1540  nodes\n",
            "Cluster No:  11  Contains :  779  nodes\n",
            "Cluster No:  12  Contains :  1106  nodes\n",
            "Cluster No:  13  Contains :  1530  nodes\n",
            "Cluster No:  14  Contains :  1418  nodes\n",
            "Cluster No:  15  Contains :  402  nodes\n",
            "Cluster No:  16  Contains :  426  nodes\n",
            "Cluster No:  17  Contains :  1583  nodes\n",
            "Cluster No:  18  Contains :  447  nodes\n",
            "Cluster No:  19  Contains :  243  nodes\n",
            "Cluster No:  20  Contains :  688  nodes\n",
            "Cluster No:  21  Contains :  1100  nodes\n",
            "Cluster No:  22  Contains :  605  nodes\n",
            "Cluster No:  23  Contains :  646  nodes\n",
            "Cluster No:  24  Contains :  560  nodes\n",
            "Cluster No:  25  Contains :  402  nodes\n",
            "Cluster No:  26  Contains :  1375  nodes\n",
            "Cluster No:  27  Contains :  255  nodes\n",
            "Cluster No:  28  Contains :  30  nodes\n",
            "Cluster No:  29  Contains :  74  nodes\n",
            "Cluster No:  30  Contains :  498  nodes\n",
            "Cluster No:  31  Contains :  244  nodes\n",
            "Cluster No:  32  Contains :  364  nodes\n",
            "Cluster No:  33  Contains :  611  nodes\n",
            "Cluster No:  34  Contains :  827  nodes\n",
            "Cluster No:  35  Contains :  647  nodes\n",
            "Cluster No:  36  Contains :  336  nodes\n",
            "Cluster No:  37  Contains :  381  nodes\n",
            "Cluster No:  38  Contains :  19  nodes\n",
            "Cluster No:  39  Contains :  144  nodes\n",
            "Cluster No:  40  Contains :  101  nodes\n",
            "Cluster No:  41  Contains :  191  nodes\n",
            "Cluster No:  42  Contains :  392  nodes\n",
            "Cluster No:  43  Contains :  261  nodes\n",
            "Cluster No:  44  Contains :  80  nodes\n",
            "Cluster No:  45  Contains :  53  nodes\n",
            "Cluster No:  46  Contains :  163  nodes\n",
            "Cluster No:  47  Contains :  48  nodes\n",
            "Cluster No:  48  Contains :  21  nodes\n",
            "Cluster No:  49  Contains :  183  nodes\n",
            "Cluster No:  50  Contains :  12  nodes\n",
            "Cluster No:  51  Contains :  39  nodes\n",
            "Cluster No:  52  Contains :  11  nodes\n",
            "Cluster No:  53  Contains :  168  nodes\n",
            "Cluster No:  54  Contains :  18  nodes\n",
            "Cluster No:  55  Contains :  68  nodes\n",
            "Cluster No:  56  Contains :  25  nodes\n",
            "Cluster No:  57  Contains :  37  nodes\n",
            "Cluster No:  58  Contains :  16  nodes\n",
            "Cluster No:  59  Contains :  41  nodes\n",
            "Cluster No:  60  Contains :  10  nodes\n",
            "Cluster No:  61  Contains :  6  nodes\n",
            "Cluster No:  62  Contains :  59  nodes\n",
            "Cluster No:  63  Contains :  8  nodes\n",
            "Cluster No:  64  Contains :  5  nodes\n",
            "Cluster No:  65  Contains :  34  nodes\n",
            "Cluster No:  66  Contains :  18  nodes\n",
            "Cluster No:  67  Contains :  11  nodes\n",
            "Cluster No:  68  Contains :  10  nodes\n",
            "Cluster No:  69  Contains :  48  nodes\n",
            "Cluster No:  70  Contains :  6  nodes\n",
            "Cluster No:  71  Contains :  20  nodes\n",
            "Cluster No:  72  Contains :  29  nodes\n",
            "Cluster No:  73  Contains :  6  nodes\n",
            "Cluster No:  74  Contains :  4  nodes\n",
            "Cluster No:  75  Contains :  7  nodes\n",
            "Cluster No:  76  Contains :  19  nodes\n",
            "Cluster No:  77  Contains :  13  nodes\n",
            "Cluster No:  78  Contains :  9  nodes\n",
            "Cluster No:  79  Contains :  5  nodes\n",
            "Cluster No:  80  Contains :  31  nodes\n",
            "Cluster No:  81  Contains :  36  nodes\n",
            "Cluster No:  82  Contains :  9  nodes\n",
            "Cluster No:  83  Contains :  9  nodes\n",
            "Cluster No:  84  Contains :  7  nodes\n",
            "Cluster No:  85  Contains :  34  nodes\n",
            "Cluster No:  86  Contains :  9  nodes\n",
            "Cluster No:  87  Contains :  6  nodes\n",
            "Cluster No:  88  Contains :  10  nodes\n"
          ],
          "name": "stdout"
        }
      ]
    },
    {
      "cell_type": "code",
      "metadata": {
        "id": "UvERBBk9GtWT",
        "colab_type": "code",
        "colab": {}
      },
      "source": [
        "# Plot Network Communities with Fruchterman-Reingold layout\n",
        "\n",
        "# Define style from network plotting\n",
        "visual_style = {}\n",
        "visual_style[\"mark_groups\"] = True\n",
        "visual_style[\"vertex_size\"] = 8\n",
        "#visual_style[\"vertex_label_size\"] = 2\n",
        "#visual_style[\"vertex_color\"] = [ClusterColoringPalette[x] for x in membership]\n",
        "visual_style[\"vertex_label\"] = None\n",
        "visual_style[\"edge_width\"] = 1\n",
        "visual_style[\"layout\"] = 'fruchterman_reingold'\n",
        "visual_style[\"bbox\"] = (1200,1200)\n",
        "visual_style[\"margin\"] = 20\n",
        "\n",
        "out = ig.plot(louvain, **visual_style)\n",
        "out.save('louvain_fr.png')"
      ],
      "execution_count": 0,
      "outputs": []
    },
    {
      "cell_type": "code",
      "metadata": {
        "id": "jhuXc3v3G2nB",
        "colab_type": "code",
        "colab": {}
      },
      "source": [
        "# Plot Network Communities with DRL layout\n",
        "\n",
        "# Define style from network plotting\n",
        "visual_style = {}\n",
        "visual_style[\"mark_groups\"] = True\n",
        "visual_style[\"vertex_size\"] = 10\n",
        "#visual_style[\"vertex_label_size\"] = 2\n",
        "#visual_style[\"vertex_color\"] = [ClusterColoringPalette[x] for x in membership]\n",
        "visual_style[\"vertex_label\"] = None\n",
        "visual_style[\"edge_width\"] = 1\n",
        "visual_style[\"layout\"] = 'drl'\n",
        "visual_style[\"bbox\"] = (1500,1500)\n",
        "visual_style[\"margin\"] = 20\n",
        "\n",
        "out = ig.plot(louvain, **visual_style)\n",
        "out.save('louvain_drl.png')"
      ],
      "execution_count": 0,
      "outputs": []
    }
  ]
}